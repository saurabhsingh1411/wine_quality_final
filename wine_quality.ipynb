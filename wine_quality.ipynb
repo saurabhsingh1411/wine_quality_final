{
  "nbformat": 4,
  "nbformat_minor": 0,
  "metadata": {
    "colab": {
      "name": "wine_quality.ipynb",
      "provenance": [],
      "collapsed_sections": [],
      "authorship_tag": "ABX9TyPNqI0yXglGaAsM2DEtkpi8",
      "include_colab_link": true
    },
    "kernelspec": {
      "name": "python3",
      "display_name": "Python 3"
    }
  },
  "cells": [
    {
      "cell_type": "markdown",
      "metadata": {
        "id": "view-in-github",
        "colab_type": "text"
      },
      "source": [
        "<a href=\"https://colab.research.google.com/github/saurabhsingh1411/wine_quality_final/blob/master/wine_quality.ipynb\" target=\"_parent\"><img src=\"https://colab.research.google.com/assets/colab-badge.svg\" alt=\"Open In Colab\"/></a>"
      ]
    },
    {
      "cell_type": "markdown",
      "metadata": {
        "id": "pF98TMNomjx2",
        "colab_type": "text"
      },
      "source": [
        "## Importing dataset and lib"
      ]
    },
    {
      "cell_type": "code",
      "metadata": {
        "id": "NnRt_hkvmpgj",
        "colab_type": "code",
        "colab": {}
      },
      "source": [
        "import pandas as pd\n",
        "import numpy as np\n",
        "import seaborn as sns\n",
        "import matplotlib.pyplot as plt\n",
        "from sklearn.ensemble import RandomForestClassifier\n",
        "from sklearn.svm import SVC\n",
        "from sklearn.linear_model import SGDClassifier\n",
        "from sklearn.metrics import confusion_matrix,classification_report\n",
        "from sklearn.preprocessing import StandardScaler,LabelEncoder\n",
        "from sklearn.model_selection import train_test_split,GridSearchCV,cross_val_score\n",
        "\n",
        "%matplotlib inline"
      ],
      "execution_count": 3,
      "outputs": []
    },
    {
      "cell_type": "code",
      "metadata": {
        "id": "1zoTBT7VnsZL",
        "colab_type": "code",
        "colab": {}
      },
      "source": [
        "wine=pd.read_csv('dataset.csv')"
      ],
      "execution_count": 4,
      "outputs": []
    },
    {
      "cell_type": "code",
      "metadata": {
        "id": "Kp1IEYQ_n16V",
        "colab_type": "code",
        "colab": {
          "base_uri": "https://localhost:8080/",
          "height": 238
        },
        "outputId": "07d533f9-3abe-402d-b651-fea25871a065"
      },
      "source": [
        " wine.head()"
      ],
      "execution_count": 5,
      "outputs": [
        {
          "output_type": "execute_result",
          "data": {
            "text/html": [
              "<div>\n",
              "<style scoped>\n",
              "    .dataframe tbody tr th:only-of-type {\n",
              "        vertical-align: middle;\n",
              "    }\n",
              "\n",
              "    .dataframe tbody tr th {\n",
              "        vertical-align: top;\n",
              "    }\n",
              "\n",
              "    .dataframe thead th {\n",
              "        text-align: right;\n",
              "    }\n",
              "</style>\n",
              "<table border=\"1\" class=\"dataframe\">\n",
              "  <thead>\n",
              "    <tr style=\"text-align: right;\">\n",
              "      <th></th>\n",
              "      <th>fixed acidity</th>\n",
              "      <th>volatile acidity</th>\n",
              "      <th>citric acid</th>\n",
              "      <th>residual sugar</th>\n",
              "      <th>chlorides</th>\n",
              "      <th>free sulfur dioxide</th>\n",
              "      <th>total sulfur dioxide</th>\n",
              "      <th>density</th>\n",
              "      <th>pH</th>\n",
              "      <th>sulphates</th>\n",
              "      <th>alcohol</th>\n",
              "      <th>quality</th>\n",
              "    </tr>\n",
              "  </thead>\n",
              "  <tbody>\n",
              "    <tr>\n",
              "      <th>0</th>\n",
              "      <td>7.4</td>\n",
              "      <td>0.70</td>\n",
              "      <td>0.00</td>\n",
              "      <td>1.9</td>\n",
              "      <td>0.076</td>\n",
              "      <td>11.0</td>\n",
              "      <td>34.0</td>\n",
              "      <td>0.9978</td>\n",
              "      <td>3.51</td>\n",
              "      <td>0.56</td>\n",
              "      <td>9.4</td>\n",
              "      <td>5</td>\n",
              "    </tr>\n",
              "    <tr>\n",
              "      <th>1</th>\n",
              "      <td>7.8</td>\n",
              "      <td>0.88</td>\n",
              "      <td>0.00</td>\n",
              "      <td>2.6</td>\n",
              "      <td>0.098</td>\n",
              "      <td>25.0</td>\n",
              "      <td>67.0</td>\n",
              "      <td>0.9968</td>\n",
              "      <td>3.20</td>\n",
              "      <td>0.68</td>\n",
              "      <td>9.8</td>\n",
              "      <td>5</td>\n",
              "    </tr>\n",
              "    <tr>\n",
              "      <th>2</th>\n",
              "      <td>7.8</td>\n",
              "      <td>0.76</td>\n",
              "      <td>0.04</td>\n",
              "      <td>2.3</td>\n",
              "      <td>0.092</td>\n",
              "      <td>15.0</td>\n",
              "      <td>54.0</td>\n",
              "      <td>0.9970</td>\n",
              "      <td>3.26</td>\n",
              "      <td>0.65</td>\n",
              "      <td>9.8</td>\n",
              "      <td>5</td>\n",
              "    </tr>\n",
              "    <tr>\n",
              "      <th>3</th>\n",
              "      <td>11.2</td>\n",
              "      <td>0.28</td>\n",
              "      <td>0.56</td>\n",
              "      <td>1.9</td>\n",
              "      <td>0.075</td>\n",
              "      <td>17.0</td>\n",
              "      <td>60.0</td>\n",
              "      <td>0.9980</td>\n",
              "      <td>3.16</td>\n",
              "      <td>0.58</td>\n",
              "      <td>9.8</td>\n",
              "      <td>6</td>\n",
              "    </tr>\n",
              "    <tr>\n",
              "      <th>4</th>\n",
              "      <td>7.4</td>\n",
              "      <td>0.70</td>\n",
              "      <td>0.00</td>\n",
              "      <td>1.9</td>\n",
              "      <td>0.076</td>\n",
              "      <td>11.0</td>\n",
              "      <td>34.0</td>\n",
              "      <td>0.9978</td>\n",
              "      <td>3.51</td>\n",
              "      <td>0.56</td>\n",
              "      <td>9.4</td>\n",
              "      <td>5</td>\n",
              "    </tr>\n",
              "  </tbody>\n",
              "</table>\n",
              "</div>"
            ],
            "text/plain": [
              "   fixed acidity  volatile acidity  citric acid  ...  sulphates  alcohol  quality\n",
              "0            7.4              0.70         0.00  ...       0.56      9.4        5\n",
              "1            7.8              0.88         0.00  ...       0.68      9.8        5\n",
              "2            7.8              0.76         0.04  ...       0.65      9.8        5\n",
              "3           11.2              0.28         0.56  ...       0.58      9.8        6\n",
              "4            7.4              0.70         0.00  ...       0.56      9.4        5\n",
              "\n",
              "[5 rows x 12 columns]"
            ]
          },
          "metadata": {
            "tags": []
          },
          "execution_count": 5
        }
      ]
    },
    {
      "cell_type": "markdown",
      "metadata": {
        "id": "wYf9kWhUoPZF",
        "colab_type": "text"
      },
      "source": [
        "Check for null values"
      ]
    },
    {
      "cell_type": "code",
      "metadata": {
        "id": "Yr7zc-lLoCaM",
        "colab_type": "code",
        "colab": {
          "base_uri": "https://localhost:8080/",
          "height": 238
        },
        "outputId": "6b29f5ea-4d5e-40a7-8850-0fa82fc7ea23"
      },
      "source": [
        "wine.isnull().sum()"
      ],
      "execution_count": 6,
      "outputs": [
        {
          "output_type": "execute_result",
          "data": {
            "text/plain": [
              "fixed acidity           0\n",
              "volatile acidity        0\n",
              "citric acid             0\n",
              "residual sugar          0\n",
              "chlorides               0\n",
              "free sulfur dioxide     0\n",
              "total sulfur dioxide    0\n",
              "density                 0\n",
              "pH                      0\n",
              "sulphates               0\n",
              "alcohol                 0\n",
              "quality                 0\n",
              "dtype: int64"
            ]
          },
          "metadata": {
            "tags": []
          },
          "execution_count": 6
        }
      ]
    },
    {
      "cell_type": "code",
      "metadata": {
        "id": "wvaLx0rYoEVd",
        "colab_type": "code",
        "colab": {
          "base_uri": "https://localhost:8080/",
          "height": 340
        },
        "outputId": "be947f3e-ea50-4880-91c8-7f217c33dbc1"
      },
      "source": [
        "wine.info()"
      ],
      "execution_count": 7,
      "outputs": [
        {
          "output_type": "stream",
          "text": [
            "<class 'pandas.core.frame.DataFrame'>\n",
            "RangeIndex: 1599 entries, 0 to 1598\n",
            "Data columns (total 12 columns):\n",
            " #   Column                Non-Null Count  Dtype  \n",
            "---  ------                --------------  -----  \n",
            " 0   fixed acidity         1599 non-null   float64\n",
            " 1   volatile acidity      1599 non-null   float64\n",
            " 2   citric acid           1599 non-null   float64\n",
            " 3   residual sugar        1599 non-null   float64\n",
            " 4   chlorides             1599 non-null   float64\n",
            " 5   free sulfur dioxide   1599 non-null   float64\n",
            " 6   total sulfur dioxide  1599 non-null   float64\n",
            " 7   density               1599 non-null   float64\n",
            " 8   pH                    1599 non-null   float64\n",
            " 9   sulphates             1599 non-null   float64\n",
            " 10  alcohol               1599 non-null   float64\n",
            " 11  quality               1599 non-null   int64  \n",
            "dtypes: float64(11), int64(1)\n",
            "memory usage: 150.0 KB\n"
          ],
          "name": "stdout"
        }
      ]
    },
    {
      "cell_type": "markdown",
      "metadata": {
        "id": "hAmuKXNICUEq",
        "colab_type": "text"
      },
      "source": [
        "## Data Visulization"
      ]
    },
    {
      "cell_type": "code",
      "metadata": {
        "id": "chmFpPDgoEYe",
        "colab_type": "code",
        "colab": {
          "base_uri": "https://localhost:8080/",
          "height": 279
        },
        "outputId": "03bd5b9b-aabc-4014-fba0-a592d4a84f50"
      },
      "source": [
        "wine['quality'].value_counts().plot(kind='bar')"
      ],
      "execution_count": 8,
      "outputs": [
        {
          "output_type": "execute_result",
          "data": {
            "text/plain": [
              "<matplotlib.axes._subplots.AxesSubplot at 0x7f89672a5630>"
            ]
          },
          "metadata": {
            "tags": []
          },
          "execution_count": 8
        },
        {
          "output_type": "display_data",
          "data": {
            "image/png": "[encoded data removed]",
            "text/plain": [
              "<Figure size 432x288 with 1 Axes>"
            ]
          },
          "metadata": {
            "tags": [],
            "needs_background": "light"
          }
        }
      ]
    },
    {
      "cell_type": "code",
      "metadata": {
        "id": "F_3iMNaJoEgx",
        "colab_type": "code",
        "colab": {
          "base_uri": "https://localhost:8080/",
          "height": 405
        },
        "outputId": "6bfb4b8e-d2bc-40f4-a581-c72e188d73cb"
      },
      "source": [
        "fig=plt.figure(figsize=(10,6))\n",
        "sns.barplot(x='quality',y='fixed acidity',data=wine)"
      ],
      "execution_count": 9,
      "outputs": [
        {
          "output_type": "execute_result",
          "data": {
            "text/plain": [
              "<matplotlib.axes._subplots.AxesSubplot at 0x7f89671d8160>"
            ]
          },
          "metadata": {
            "tags": []
          },
          "execution_count": 9
        },
        {
          "output_type": "display_data",
          "data": {
            "image/png": "[encoded data removed]",
            "text/plain": [
              "<Figure size 720x432 with 1 Axes>"
            ]
          },
          "metadata": {
            "tags": [],
            "needs_background": "light"
          }
        }
      ]
    },
    {
      "cell_type": "code",
      "metadata": {
        "id": "V3U_CyJ_oEmV",
        "colab_type": "code",
        "colab": {
          "base_uri": "https://localhost:8080/",
          "height": 405
        },
        "outputId": "42405938-bc16-49bf-be04-763fe4fae88f"
      },
      "source": [
        "fig=plt.figure(figsize=(10,6))\n",
        "sns.barplot(x='quality',y='volatile acidity',data=wine)"
      ],
      "execution_count": 10,
      "outputs": [
        {
          "output_type": "execute_result",
          "data": {
            "text/plain": [
              "<matplotlib.axes._subplots.AxesSubplot at 0x7f8990dfda20>"
            ]
          },
          "metadata": {
            "tags": []
          },
          "execution_count": 10
        },
        {
          "output_type": "display_data",
          "data": {
            "image/png": "[encoded data removed]",
            "text/plain": [
              "<Figure size 720x432 with 1 Axes>"
            ]
          },
          "metadata": {
            "tags": [],
            "needs_background": "light"
          }
        }
      ]
    },
    {
      "cell_type": "code",
      "metadata": {
        "id": "S9AgZV4BoEkr",
        "colab_type": "code",
        "colab": {}
      },
      "source": [
        "#Here we see that its quite a downing trend in the volatile acidity as we go higher the quality "
      ],
      "execution_count": 11,
      "outputs": []
    },
    {
      "cell_type": "code",
      "metadata": {
        "id": "F2rXDhvboEeN",
        "colab_type": "code",
        "colab": {
          "base_uri": "https://localhost:8080/",
          "height": 405
        },
        "outputId": "2de05ad3-595b-4c81-d7bf-2d21fe94264e"
      },
      "source": [
        "fig = plt.figure(figsize = (10,6))\n",
        "sns.barplot(x = 'quality', y = 'citric acid', data = wine)"
      ],
      "execution_count": 12,
      "outputs": [
        {
          "output_type": "execute_result",
          "data": {
            "text/plain": [
              "<matplotlib.axes._subplots.AxesSubplot at 0x7f8966c335c0>"
            ]
          },
          "metadata": {
            "tags": []
          },
          "execution_count": 12
        },
        {
          "output_type": "display_data",
          "data": {
            "image/png": "[encoded data removed]",
            "text/plain": [
              "<Figure size 720x432 with 1 Axes>"
            ]
          },
          "metadata": {
            "tags": [],
            "needs_background": "light"
          }
        }
      ]
    },
    {
      "cell_type": "code",
      "metadata": {
        "id": "YHegrWpRoEcN",
        "colab_type": "code",
        "colab": {
          "base_uri": "https://localhost:8080/",
          "height": 405
        },
        "outputId": "e15cafbd-561d-4ea6-9f95-077aa1c4a1e5"
      },
      "source": [
        "fig = plt.figure(figsize = (10,6))\n",
        "sns.barplot(x = 'quality', y = 'residual sugar', data = wine)"
      ],
      "execution_count": 13,
      "outputs": [
        {
          "output_type": "execute_result",
          "data": {
            "text/plain": [
              "<matplotlib.axes._subplots.AxesSubplot at 0x7f8966c2dc18>"
            ]
          },
          "metadata": {
            "tags": []
          },
          "execution_count": 13
        },
        {
          "output_type": "display_data",
          "data": {
            "image/png": "[encoded data removed]",
            "text/plain": [
              "<Figure size 720x432 with 1 Axes>"
            ]
          },
          "metadata": {
            "tags": [],
            "needs_background": "light"
          }
        }
      ]
    },
    {
      "cell_type": "code",
      "metadata": {
        "id": "Zg5Y5vRdED1j",
        "colab_type": "code",
        "colab": {
          "base_uri": "https://localhost:8080/",
          "height": 405
        },
        "outputId": "c9e74dca-3138-4dd3-8883-b56f0b707d84"
      },
      "source": [
        "fig = plt.figure(figsize = (10,6))\n",
        "sns.barplot(x = 'quality', y = 'chlorides', data = wine)"
      ],
      "execution_count": 14,
      "outputs": [
        {
          "output_type": "execute_result",
          "data": {
            "text/plain": [
              "<matplotlib.axes._subplots.AxesSubplot at 0x7f8966d29668>"
            ]
          },
          "metadata": {
            "tags": []
          },
          "execution_count": 14
        },
        {
          "output_type": "display_data",
          "data": {
            "image/png": "[encoded data removed]",
            "text/plain": [
              "<Figure size 720x432 with 1 Axes>"
            ]
          },
          "metadata": {
            "tags": [],
            "needs_background": "light"
          }
        }
      ]
    },
    {
      "cell_type": "code",
      "metadata": {
        "id": "wZO5pdJ-EF5Q",
        "colab_type": "code",
        "colab": {
          "base_uri": "https://localhost:8080/",
          "height": 405
        },
        "outputId": "d778413d-db3a-449e-9f35-1087d77aa4ba"
      },
      "source": [
        "fig = plt.figure(figsize = (10,6))\n",
        "sns.barplot(x = 'quality', y = 'free sulfur dioxide', data = wine)"
      ],
      "execution_count": 15,
      "outputs": [
        {
          "output_type": "execute_result",
          "data": {
            "text/plain": [
              "<matplotlib.axes._subplots.AxesSubplot at 0x7f898bf5c1d0>"
            ]
          },
          "metadata": {
            "tags": []
          },
          "execution_count": 15
        },
        {
          "output_type": "display_data",
          "data": {
            "image/png": "[encoded data removed]",
            "text/plain": [
              "<Figure size 720x432 with 1 Axes>"
            ]
          },
          "metadata": {
            "tags": [],
            "needs_background": "light"
          }
        }
      ]
    },
    {
      "cell_type": "code",
      "metadata": {
        "id": "PIuZZNsUEH8_",
        "colab_type": "code",
        "colab": {
          "base_uri": "https://localhost:8080/",
          "height": 405
        },
        "outputId": "5dd15342-057a-4251-f304-4074252208f8"
      },
      "source": [
        "fig = plt.figure(figsize = (10,6))\n",
        "sns.barplot(x = 'quality', y = 'total sulfur dioxide', data = wine)"
      ],
      "execution_count": 16,
      "outputs": [
        {
          "output_type": "execute_result",
          "data": {
            "text/plain": [
              "<matplotlib.axes._subplots.AxesSubplot at 0x7f8966a52320>"
            ]
          },
          "metadata": {
            "tags": []
          },
          "execution_count": 16
        },
        {
          "output_type": "display_data",
          "data": {
            "image/png": "[encoded data removed]",
            "text/plain": [
              "<Figure size 720x432 with 1 Axes>"
            ]
          },
          "metadata": {
            "tags": [],
            "needs_background": "light"
          }
        }
      ]
    },
    {
      "cell_type": "code",
      "metadata": {
        "id": "qFG6lesnEKu5",
        "colab_type": "code",
        "colab": {
          "base_uri": "https://localhost:8080/",
          "height": 405
        },
        "outputId": "7c7419d9-9779-4c61-e7b4-7ddd34929c9e"
      },
      "source": [
        "#Sulphates level goes higher with the quality of wine\n",
        "fig = plt.figure(figsize = (10,6))\n",
        "sns.barplot(x = 'quality', y = 'sulphates', data = wine)"
      ],
      "execution_count": 17,
      "outputs": [
        {
          "output_type": "execute_result",
          "data": {
            "text/plain": [
              "<matplotlib.axes._subplots.AxesSubplot at 0x7f8966a520f0>"
            ]
          },
          "metadata": {
            "tags": []
          },
          "execution_count": 17
        },
        {
          "output_type": "display_data",
          "data": {
            "image/png": "[encoded data removed]",
            "text/plain": [
              "<Figure size 720x432 with 1 Axes>"
            ]
          },
          "metadata": {
            "tags": [],
            "needs_background": "light"
          }
        }
      ]
    },
    {
      "cell_type": "code",
      "metadata": {
        "id": "IYa1d0GuEK1U",
        "colab_type": "code",
        "colab": {
          "base_uri": "https://localhost:8080/",
          "height": 405
        },
        "outputId": "ba6cfa8b-0d4b-4d63-9d5c-629249106828"
      },
      "source": [
        "#Alcohol level also goes higher as te quality of wine increases\n",
        "fig = plt.figure(figsize = (10,6))\n",
        "sns.barplot(x = 'quality', y = 'alcohol', data = wine)"
      ],
      "execution_count": 18,
      "outputs": [
        {
          "output_type": "execute_result",
          "data": {
            "text/plain": [
              "<matplotlib.axes._subplots.AxesSubplot at 0x7f8966a1dfd0>"
            ]
          },
          "metadata": {
            "tags": []
          },
          "execution_count": 18
        },
        {
          "output_type": "display_data",
          "data": {
            "image/png": "[encoded data removed]",
            "text/plain": [
              "<Figure size 720x432 with 1 Axes>"
            ]
          },
          "metadata": {
            "tags": [],
            "needs_background": "light"
          }
        }
      ]
    },
    {
      "cell_type": "markdown",
      "metadata": {
        "id": "WCK8pp0_8Pgq",
        "colab_type": "text"
      },
      "source": [
        "## preprocessing"
      ]
    },
    {
      "cell_type": "code",
      "metadata": {
        "id": "4qivTR4WELCz",
        "colab_type": "code",
        "colab": {}
      },
      "source": [
        "bins=(1,6.5,8)\n",
        "group_name=['bad','good']\n",
        "\n",
        "wine['quality']=pd.cut(wine['quality'],bins=bins,labels=group_name)"
      ],
      "execution_count": 20,
      "outputs": []
    },
    {
      "cell_type": "code",
      "metadata": {
        "id": "taxSLxtlELGY",
        "colab_type": "code",
        "colab": {
          "base_uri": "https://localhost:8080/",
          "height": 703
        },
        "outputId": "985ed9ce-7177-49a2-ad86-dfd0e73e81a8"
      },
      "source": [
        "wine.tail(20)"
      ],
      "execution_count": 23,
      "outputs": [
        {
          "output_type": "execute_result",
          "data": {
            "text/html": [
              "<div>\n",
              "<style scoped>\n",
              "    .dataframe tbody tr th:only-of-type {\n",
              "        vertical-align: middle;\n",
              "    }\n",
              "\n",
              "    .dataframe tbody tr th {\n",
              "        vertical-align: top;\n",
              "    }\n",
              "\n",
              "    .dataframe thead th {\n",
              "        text-align: right;\n",
              "    }\n",
              "</style>\n",
              "<table border=\"1\" class=\"dataframe\">\n",
              "  <thead>\n",
              "    <tr style=\"text-align: right;\">\n",
              "      <th></th>\n",
              "      <th>fixed acidity</th>\n",
              "      <th>volatile acidity</th>\n",
              "      <th>citric acid</th>\n",
              "      <th>residual sugar</th>\n",
              "      <th>chlorides</th>\n",
              "      <th>free sulfur dioxide</th>\n",
              "      <th>total sulfur dioxide</th>\n",
              "      <th>density</th>\n",
              "      <th>pH</th>\n",
              "      <th>sulphates</th>\n",
              "      <th>alcohol</th>\n",
              "      <th>quality</th>\n",
              "    </tr>\n",
              "  </thead>\n",
              "  <tbody>\n",
              "    <tr>\n",
              "      <th>1579</th>\n",
              "      <td>6.2</td>\n",
              "      <td>0.560</td>\n",
              "      <td>0.09</td>\n",
              "      <td>1.7</td>\n",
              "      <td>0.053</td>\n",
              "      <td>24.0</td>\n",
              "      <td>32.0</td>\n",
              "      <td>0.99402</td>\n",
              "      <td>3.54</td>\n",
              "      <td>0.60</td>\n",
              "      <td>11.3</td>\n",
              "      <td>bad</td>\n",
              "    </tr>\n",
              "    <tr>\n",
              "      <th>1580</th>\n",
              "      <td>7.4</td>\n",
              "      <td>0.350</td>\n",
              "      <td>0.33</td>\n",
              "      <td>2.4</td>\n",
              "      <td>0.068</td>\n",
              "      <td>9.0</td>\n",
              "      <td>26.0</td>\n",
              "      <td>0.99470</td>\n",
              "      <td>3.36</td>\n",
              "      <td>0.60</td>\n",
              "      <td>11.9</td>\n",
              "      <td>bad</td>\n",
              "    </tr>\n",
              "    <tr>\n",
              "      <th>1581</th>\n",
              "      <td>6.2</td>\n",
              "      <td>0.560</td>\n",
              "      <td>0.09</td>\n",
              "      <td>1.7</td>\n",
              "      <td>0.053</td>\n",
              "      <td>24.0</td>\n",
              "      <td>32.0</td>\n",
              "      <td>0.99402</td>\n",
              "      <td>3.54</td>\n",
              "      <td>0.60</td>\n",
              "      <td>11.3</td>\n",
              "      <td>bad</td>\n",
              "    </tr>\n",
              "    <tr>\n",
              "      <th>1582</th>\n",
              "      <td>6.1</td>\n",
              "      <td>0.715</td>\n",
              "      <td>0.10</td>\n",
              "      <td>2.6</td>\n",
              "      <td>0.053</td>\n",
              "      <td>13.0</td>\n",
              "      <td>27.0</td>\n",
              "      <td>0.99362</td>\n",
              "      <td>3.57</td>\n",
              "      <td>0.50</td>\n",
              "      <td>11.9</td>\n",
              "      <td>bad</td>\n",
              "    </tr>\n",
              "    <tr>\n",
              "      <th>1583</th>\n",
              "      <td>6.2</td>\n",
              "      <td>0.460</td>\n",
              "      <td>0.29</td>\n",
              "      <td>2.1</td>\n",
              "      <td>0.074</td>\n",
              "      <td>32.0</td>\n",
              "      <td>98.0</td>\n",
              "      <td>0.99578</td>\n",
              "      <td>3.33</td>\n",
              "      <td>0.62</td>\n",
              "      <td>9.8</td>\n",
              "      <td>bad</td>\n",
              "    </tr>\n",
              "    <tr>\n",
              "      <th>1584</th>\n",
              "      <td>6.7</td>\n",
              "      <td>0.320</td>\n",
              "      <td>0.44</td>\n",
              "      <td>2.4</td>\n",
              "      <td>0.061</td>\n",
              "      <td>24.0</td>\n",
              "      <td>34.0</td>\n",
              "      <td>0.99484</td>\n",
              "      <td>3.29</td>\n",
              "      <td>0.80</td>\n",
              "      <td>11.6</td>\n",
              "      <td>good</td>\n",
              "    </tr>\n",
              "    <tr>\n",
              "      <th>1585</th>\n",
              "      <td>7.2</td>\n",
              "      <td>0.390</td>\n",
              "      <td>0.44</td>\n",
              "      <td>2.6</td>\n",
              "      <td>0.066</td>\n",
              "      <td>22.0</td>\n",
              "      <td>48.0</td>\n",
              "      <td>0.99494</td>\n",
              "      <td>3.30</td>\n",
              "      <td>0.84</td>\n",
              "      <td>11.5</td>\n",
              "      <td>bad</td>\n",
              "    </tr>\n",
              "    <tr>\n",
              "      <th>1586</th>\n",
              "      <td>7.5</td>\n",
              "      <td>0.310</td>\n",
              "      <td>0.41</td>\n",
              "      <td>2.4</td>\n",
              "      <td>0.065</td>\n",
              "      <td>34.0</td>\n",
              "      <td>60.0</td>\n",
              "      <td>0.99492</td>\n",
              "      <td>3.34</td>\n",
              "      <td>0.85</td>\n",
              "      <td>11.4</td>\n",
              "      <td>bad</td>\n",
              "    </tr>\n",
              "    <tr>\n",
              "      <th>1587</th>\n",
              "      <td>5.8</td>\n",
              "      <td>0.610</td>\n",
              "      <td>0.11</td>\n",
              "      <td>1.8</td>\n",
              "      <td>0.066</td>\n",
              "      <td>18.0</td>\n",
              "      <td>28.0</td>\n",
              "      <td>0.99483</td>\n",
              "      <td>3.55</td>\n",
              "      <td>0.66</td>\n",
              "      <td>10.9</td>\n",
              "      <td>bad</td>\n",
              "    </tr>\n",
              "    <tr>\n",
              "      <th>1588</th>\n",
              "      <td>7.2</td>\n",
              "      <td>0.660</td>\n",
              "      <td>0.33</td>\n",
              "      <td>2.5</td>\n",
              "      <td>0.068</td>\n",
              "      <td>34.0</td>\n",
              "      <td>102.0</td>\n",
              "      <td>0.99414</td>\n",
              "      <td>3.27</td>\n",
              "      <td>0.78</td>\n",
              "      <td>12.8</td>\n",
              "      <td>bad</td>\n",
              "    </tr>\n",
              "    <tr>\n",
              "      <th>1589</th>\n",
              "      <td>6.6</td>\n",
              "      <td>0.725</td>\n",
              "      <td>0.20</td>\n",
              "      <td>7.8</td>\n",
              "      <td>0.073</td>\n",
              "      <td>29.0</td>\n",
              "      <td>79.0</td>\n",
              "      <td>0.99770</td>\n",
              "      <td>3.29</td>\n",
              "      <td>0.54</td>\n",
              "      <td>9.2</td>\n",
              "      <td>bad</td>\n",
              "    </tr>\n",
              "    <tr>\n",
              "      <th>1590</th>\n",
              "      <td>6.3</td>\n",
              "      <td>0.550</td>\n",
              "      <td>0.15</td>\n",
              "      <td>1.8</td>\n",
              "      <td>0.077</td>\n",
              "      <td>26.0</td>\n",
              "      <td>35.0</td>\n",
              "      <td>0.99314</td>\n",
              "      <td>3.32</td>\n",
              "      <td>0.82</td>\n",
              "      <td>11.6</td>\n",
              "      <td>bad</td>\n",
              "    </tr>\n",
              "    <tr>\n",
              "      <th>1591</th>\n",
              "      <td>5.4</td>\n",
              "      <td>0.740</td>\n",
              "      <td>0.09</td>\n",
              "      <td>1.7</td>\n",
              "      <td>0.089</td>\n",
              "      <td>16.0</td>\n",
              "      <td>26.0</td>\n",
              "      <td>0.99402</td>\n",
              "      <td>3.67</td>\n",
              "      <td>0.56</td>\n",
              "      <td>11.6</td>\n",
              "      <td>bad</td>\n",
              "    </tr>\n",
              "    <tr>\n",
              "      <th>1592</th>\n",
              "      <td>6.3</td>\n",
              "      <td>0.510</td>\n",
              "      <td>0.13</td>\n",
              "      <td>2.3</td>\n",
              "      <td>0.076</td>\n",
              "      <td>29.0</td>\n",
              "      <td>40.0</td>\n",
              "      <td>0.99574</td>\n",
              "      <td>3.42</td>\n",
              "      <td>0.75</td>\n",
              "      <td>11.0</td>\n",
              "      <td>bad</td>\n",
              "    </tr>\n",
              "    <tr>\n",
              "      <th>1593</th>\n",
              "      <td>6.8</td>\n",
              "      <td>0.620</td>\n",
              "      <td>0.08</td>\n",
              "      <td>1.9</td>\n",
              "      <td>0.068</td>\n",
              "      <td>28.0</td>\n",
              "      <td>38.0</td>\n",
              "      <td>0.99651</td>\n",
              "      <td>3.42</td>\n",
              "      <td>0.82</td>\n",
              "      <td>9.5</td>\n",
              "      <td>bad</td>\n",
              "    </tr>\n",
              "    <tr>\n",
              "      <th>1594</th>\n",
              "      <td>6.2</td>\n",
              "      <td>0.600</td>\n",
              "      <td>0.08</td>\n",
              "      <td>2.0</td>\n",
              "      <td>0.090</td>\n",
              "      <td>32.0</td>\n",
              "      <td>44.0</td>\n",
              "      <td>0.99490</td>\n",
              "      <td>3.45</td>\n",
              "      <td>0.58</td>\n",
              "      <td>10.5</td>\n",
              "      <td>bad</td>\n",
              "    </tr>\n",
              "    <tr>\n",
              "      <th>1595</th>\n",
              "      <td>5.9</td>\n",
              "      <td>0.550</td>\n",
              "      <td>0.10</td>\n",
              "      <td>2.2</td>\n",
              "      <td>0.062</td>\n",
              "      <td>39.0</td>\n",
              "      <td>51.0</td>\n",
              "      <td>0.99512</td>\n",
              "      <td>3.52</td>\n",
              "      <td>0.76</td>\n",
              "      <td>11.2</td>\n",
              "      <td>bad</td>\n",
              "    </tr>\n",
              "    <tr>\n",
              "      <th>1596</th>\n",
              "      <td>6.3</td>\n",
              "      <td>0.510</td>\n",
              "      <td>0.13</td>\n",
              "      <td>2.3</td>\n",
              "      <td>0.076</td>\n",
              "      <td>29.0</td>\n",
              "      <td>40.0</td>\n",
              "      <td>0.99574</td>\n",
              "      <td>3.42</td>\n",
              "      <td>0.75</td>\n",
              "      <td>11.0</td>\n",
              "      <td>bad</td>\n",
              "    </tr>\n",
              "    <tr>\n",
              "      <th>1597</th>\n",
              "      <td>5.9</td>\n",
              "      <td>0.645</td>\n",
              "      <td>0.12</td>\n",
              "      <td>2.0</td>\n",
              "      <td>0.075</td>\n",
              "      <td>32.0</td>\n",
              "      <td>44.0</td>\n",
              "      <td>0.99547</td>\n",
              "      <td>3.57</td>\n",
              "      <td>0.71</td>\n",
              "      <td>10.2</td>\n",
              "      <td>bad</td>\n",
              "    </tr>\n",
              "    <tr>\n",
              "      <th>1598</th>\n",
              "      <td>6.0</td>\n",
              "      <td>0.310</td>\n",
              "      <td>0.47</td>\n",
              "      <td>3.6</td>\n",
              "      <td>0.067</td>\n",
              "      <td>18.0</td>\n",
              "      <td>42.0</td>\n",
              "      <td>0.99549</td>\n",
              "      <td>3.39</td>\n",
              "      <td>0.66</td>\n",
              "      <td>11.0</td>\n",
              "      <td>bad</td>\n",
              "    </tr>\n",
              "  </tbody>\n",
              "</table>\n",
              "</div>"
            ],
            "text/plain": [
              "      fixed acidity  volatile acidity  citric acid  ...  sulphates  alcohol  quality\n",
              "1579            6.2             0.560         0.09  ...       0.60     11.3      bad\n",
              "1580            7.4             0.350         0.33  ...       0.60     11.9      bad\n",
              "1581            6.2             0.560         0.09  ...       0.60     11.3      bad\n",
              "1582            6.1             0.715         0.10  ...       0.50     11.9      bad\n",
              "1583            6.2             0.460         0.29  ...       0.62      9.8      bad\n",
              "1584            6.7             0.320         0.44  ...       0.80     11.6     good\n",
              "1585            7.2             0.390         0.44  ...       0.84     11.5      bad\n",
              "1586            7.5             0.310         0.41  ...       0.85     11.4      bad\n",
              "1587            5.8             0.610         0.11  ...       0.66     10.9      bad\n",
              "1588            7.2             0.660         0.33  ...       0.78     12.8      bad\n",
              "1589            6.6             0.725         0.20  ...       0.54      9.2      bad\n",
              "1590            6.3             0.550         0.15  ...       0.82     11.6      bad\n",
              "1591            5.4             0.740         0.09  ...       0.56     11.6      bad\n",
              "1592            6.3             0.510         0.13  ...       0.75     11.0      bad\n",
              "1593            6.8             0.620         0.08  ...       0.82      9.5      bad\n",
              "1594            6.2             0.600         0.08  ...       0.58     10.5      bad\n",
              "1595            5.9             0.550         0.10  ...       0.76     11.2      bad\n",
              "1596            6.3             0.510         0.13  ...       0.75     11.0      bad\n",
              "1597            5.9             0.645         0.12  ...       0.71     10.2      bad\n",
              "1598            6.0             0.310         0.47  ...       0.66     11.0      bad\n",
              "\n",
              "[20 rows x 12 columns]"
            ]
          },
          "metadata": {
            "tags": []
          },
          "execution_count": 23
        }
      ]
    },
    {
      "cell_type": "code",
      "metadata": {
        "id": "Ryl9egipELKP",
        "colab_type": "code",
        "colab": {}
      },
      "source": [
        "label_quality=LabelEncoder()\n",
        "\n",
        "wine['quality']=label_quality.fit_transform(wine['quality'])"
      ],
      "execution_count": 24,
      "outputs": []
    },
    {
      "cell_type": "code",
      "metadata": {
        "id": "n1YOi6_2ELBI",
        "colab_type": "code",
        "colab": {
          "base_uri": "https://localhost:8080/",
          "height": 279
        },
        "outputId": "9f33b0f4-1e2f-49e2-eaa6-b828be4d12c0"
      },
      "source": [
        "wine['quality'].value_counts().plot(kind='bar')"
      ],
      "execution_count": 26,
      "outputs": [
        {
          "output_type": "execute_result",
          "data": {
            "text/plain": [
              "<matplotlib.axes._subplots.AxesSubplot at 0x7f895cb839b0>"
            ]
          },
          "metadata": {
            "tags": []
          },
          "execution_count": 26
        },
        {
          "output_type": "display_data",
          "data": {
            "image/png": "[encoded data removed]",
            "text/plain": [
              "<Figure size 432x288 with 1 Axes>"
            ]
          },
          "metadata": {
            "tags": [],
            "needs_background": "light"
          }
        }
      ]
    },
    {
      "cell_type": "code",
      "metadata": {
        "id": "FvNq-2a8EK-7",
        "colab_type": "code",
        "colab": {}
      },
      "source": [
        "X=wine.drop('quality',axis=1)\n",
        "y=wine['quality']"
      ],
      "execution_count": 27,
      "outputs": []
    },
    {
      "cell_type": "code",
      "metadata": {
        "id": "ziRg7usEEK9g",
        "colab_type": "code",
        "colab": {}
      },
      "source": [
        "X_train,X_test,y_train,y_test=train_test_split(X,y,test_size=0.2,random_state=42)\n"
      ],
      "execution_count": 28,
      "outputs": []
    },
    {
      "cell_type": "code",
      "metadata": {
        "id": "PZMhDigYEK8C",
        "colab_type": "code",
        "colab": {}
      },
      "source": [
        "sc=StandardScaler()\n",
        "X_train=sc.fit_transform(X_train)\n",
        "X_test=sc.fit_transform(X_test)\n"
      ],
      "execution_count": 31,
      "outputs": []
    },
    {
      "cell_type": "code",
      "metadata": {
        "id": "w_jOdIxoEK6E",
        "colab_type": "code",
        "colab": {
          "base_uri": "https://localhost:8080/",
          "height": 153
        },
        "outputId": "3bbcaccc-4d0a-4f47-af7c-3484b078aea4"
      },
      "source": [
        "from sklearn.ensemble import RandomForestClassifier\n",
        "rfc=RandomForestClassifier(n_estimators=200)\n",
        "rfc.fit(X_train,y_train)\n"
      ],
      "execution_count": 32,
      "outputs": [
        {
          "output_type": "execute_result",
          "data": {
            "text/plain": [
              "RandomForestClassifier(bootstrap=True, ccp_alpha=0.0, class_weight=None,\n",
              "                       criterion='gini', max_depth=None, max_features='auto',\n",
              "                       max_leaf_nodes=None, max_samples=None,\n",
              "                       min_impurity_decrease=0.0, min_impurity_split=None,\n",
              "                       min_samples_leaf=1, min_samples_split=2,\n",
              "                       min_weight_fraction_leaf=0.0, n_estimators=200,\n",
              "                       n_jobs=None, oob_score=False, random_state=None,\n",
              "                       verbose=0, warm_start=False)"
            ]
          },
          "metadata": {
            "tags": []
          },
          "execution_count": 32
        }
      ]
    },
    {
      "cell_type": "code",
      "metadata": {
        "id": "R8qTBBOUEKPw",
        "colab_type": "code",
        "colab": {}
      },
      "source": [
        "pred_rfc=rfc.predict(X_test)"
      ],
      "execution_count": 34,
      "outputs": []
    },
    {
      "cell_type": "code",
      "metadata": {
        "id": "GUx5QY56DaCm",
        "colab_type": "code",
        "colab": {
          "base_uri": "https://localhost:8080/",
          "height": 272
        },
        "outputId": "7b394c8e-df7c-4453-9936-9175d688146d"
      },
      "source": [
        "pred_rfc"
      ],
      "execution_count": 35,
      "outputs": [
        {
          "output_type": "execute_result",
          "data": {
            "text/plain": [
              "array([0, 0, 0, 0, 0, 0, 0, 0, 0, 0, 1, 0, 0, 0, 0, 0, 0, 0, 1, 0, 0, 0,\n",
              "       0, 0, 0, 0, 0, 0, 0, 0, 0, 0, 0, 0, 0, 0, 0, 0, 0, 0, 0, 0, 0, 0,\n",
              "       0, 0, 0, 0, 0, 0, 0, 0, 0, 1, 0, 0, 0, 0, 0, 0, 0, 0, 0, 0, 1, 0,\n",
              "       1, 0, 1, 0, 0, 0, 0, 0, 0, 0, 1, 0, 0, 1, 0, 1, 0, 0, 0, 0, 0, 0,\n",
              "       0, 0, 0, 0, 0, 0, 0, 0, 0, 0, 0, 0, 0, 0, 0, 0, 0, 0, 0, 0, 0, 0,\n",
              "       1, 0, 1, 0, 0, 0, 0, 0, 0, 0, 0, 0, 0, 0, 0, 0, 0, 0, 0, 0, 0, 0,\n",
              "       0, 0, 0, 0, 0, 0, 0, 0, 1, 0, 1, 0, 0, 0, 0, 0, 0, 0, 0, 0, 0, 0,\n",
              "       0, 0, 0, 1, 0, 0, 0, 0, 0, 0, 0, 0, 0, 0, 0, 0, 0, 0, 0, 0, 1, 0,\n",
              "       0, 0, 0, 0, 0, 0, 0, 0, 0, 1, 0, 0, 1, 0, 0, 0, 0, 0, 0, 0, 0, 0,\n",
              "       0, 0, 0, 0, 0, 0, 0, 0, 0, 0, 0, 0, 1, 0, 0, 0, 0, 0, 0, 0, 0, 0,\n",
              "       0, 0, 0, 0, 0, 0, 0, 1, 0, 0, 0, 0, 1, 0, 0, 0, 0, 0, 0, 0, 0, 0,\n",
              "       0, 1, 0, 1, 0, 0, 0, 0, 0, 0, 0, 0, 0, 0, 0, 0, 0, 0, 0, 0, 0, 1,\n",
              "       0, 0, 0, 0, 0, 0, 0, 0, 0, 0, 0, 0, 0, 0, 0, 0, 1, 0, 0, 0, 0, 0,\n",
              "       0, 0, 0, 0, 0, 1, 1, 0, 0, 0, 0, 0, 0, 0, 0, 0, 0, 0, 0, 0, 0, 0,\n",
              "       0, 1, 0, 0, 0, 0, 0, 0, 0, 0, 0, 0])"
            ]
          },
          "metadata": {
            "tags": []
          },
          "execution_count": 35
        }
      ]
    },
    {
      "cell_type": "code",
      "metadata": {
        "id": "ApYAKqS3Dg7T",
        "colab_type": "code",
        "colab": {
          "base_uri": "https://localhost:8080/",
          "height": 170
        },
        "outputId": "2aa5ab32-d84c-4827-9e6e-585c6b677958"
      },
      "source": [
        "#Let's see how our model performed\n",
        "print(classification_report(y_test, pred_rfc))"
      ],
      "execution_count": 36,
      "outputs": [
        {
          "output_type": "stream",
          "text": [
            "              precision    recall  f1-score   support\n",
            "\n",
            "           0       0.89      0.96      0.93       273\n",
            "           1       0.59      0.34      0.43        47\n",
            "\n",
            "    accuracy                           0.87       320\n",
            "   macro avg       0.74      0.65      0.68       320\n",
            "weighted avg       0.85      0.87      0.85       320\n",
            "\n"
          ],
          "name": "stdout"
        }
      ]
    },
    {
      "cell_type": "code",
      "metadata": {
        "id": "y4HmnaYGDj3b",
        "colab_type": "code",
        "colab": {
          "base_uri": "https://localhost:8080/",
          "height": 51
        },
        "outputId": "a1a1b692-77a8-4315-890e-4bee984983b4"
      },
      "source": [
        "from sklearn.metrics import confusion_matrix\n",
        "cm=confusion_matrix(y_test, pred_rfc)\n",
        "cm"
      ],
      "execution_count": 37,
      "outputs": [
        {
          "output_type": "execute_result",
          "data": {
            "text/plain": [
              "array([[262,  11],\n",
              "       [ 31,  16]])"
            ]
          },
          "metadata": {
            "tags": []
          },
          "execution_count": 37
        }
      ]
    },
    {
      "cell_type": "markdown",
      "metadata": {
        "id": "7zk3xsr3D_Hw",
        "colab_type": "text"
      },
      "source": [
        "cat boost regressor "
      ]
    },
    {
      "cell_type": "code",
      "metadata": {
        "id": "EI71x5olFMk7",
        "colab_type": "code",
        "colab": {
          "base_uri": "https://localhost:8080/",
          "height": 343
        },
        "outputId": "087b970b-443c-430b-a3d0-a266e03001f8"
      },
      "source": [
        "#pip install catboost"
      ],
      "execution_count": 39,
      "outputs": [
        {
          "output_type": "stream",
          "text": [
            "Collecting catboost\n",
            "\u001b[?25l  Downloading https://files.pythonhosted.org/packages/90/86/c3dcb600b4f9e7584ed90ea9d30a717fb5c0111574675f442c3e7bc19535/catboost-0.24.1-cp36-none-manylinux1_x86_64.whl (66.1MB)\n",
            "\u001b[K     |████████████████████████████████| 66.1MB 56kB/s \n",
            "\u001b[?25hRequirement already satisfied: plotly in /usr/local/lib/python3.6/dist-packages (from catboost) (4.4.1)\n",
            "Requirement already satisfied: scipy in /usr/local/lib/python3.6/dist-packages (from catboost) (1.4.1)\n",
            "Requirement already satisfied: graphviz in /usr/local/lib/python3.6/dist-packages (from catboost) (0.10.1)\n",
            "Requirement already satisfied: six in /usr/local/lib/python3.6/dist-packages (from catboost) (1.15.0)\n",
            "Requirement already satisfied: pandas>=0.24.0 in /usr/local/lib/python3.6/dist-packages (from catboost) (1.0.5)\n",
            "Requirement already satisfied: numpy>=1.16.0 in /usr/local/lib/python3.6/dist-packages (from catboost) (1.18.5)\n",
            "Requirement already satisfied: matplotlib in /usr/local/lib/python3.6/dist-packages (from catboost) (3.2.2)\n",
            "Requirement already satisfied: retrying>=1.3.3 in /usr/local/lib/python3.6/dist-packages (from plotly->catboost) (1.3.3)\n",
            "Requirement already satisfied: python-dateutil>=2.6.1 in /usr/local/lib/python3.6/dist-packages (from pandas>=0.24.0->catboost) (2.8.1)\n",
            "Requirement already satisfied: pytz>=2017.2 in /usr/local/lib/python3.6/dist-packages (from pandas>=0.24.0->catboost) (2018.9)\n",
            "Requirement already satisfied: kiwisolver>=1.0.1 in /usr/local/lib/python3.6/dist-packages (from matplotlib->catboost) (1.2.0)\n",
            "Requirement already satisfied: pyparsing!=2.0.4,!=2.1.2,!=2.1.6,>=2.0.1 in /usr/local/lib/python3.6/dist-packages (from matplotlib->catboost) (2.4.7)\n",
            "Requirement already satisfied: cycler>=0.10 in /usr/local/lib/python3.6/dist-packages (from matplotlib->catboost) (0.10.0)\n",
            "Installing collected packages: catboost\n",
            "Successfully installed catboost-0.24.1\n"
          ],
          "name": "stdout"
        }
      ]
    },
    {
      "cell_type": "code",
      "metadata": {
        "id": "Muokr_1JD8NT",
        "colab_type": "code",
        "colab": {}
      },
      "source": [
        "from catboost import CatBoostClassifier\n",
        "cbr=CatBoostClassifier()\n"
      ],
      "execution_count": 50,
      "outputs": []
    },
    {
      "cell_type": "code",
      "metadata": {
        "id": "eOuHLEQ8FK4F",
        "colab_type": "code",
        "colab": {
          "base_uri": "https://localhost:8080/",
          "height": 1000
        },
        "outputId": "2fec6c99-69ba-46c9-a76b-39450e7c3d33"
      },
      "source": [
        "cbr.fit(X_train,y_train)\n"
      ],
      "execution_count": 51,
      "outputs": [
        {
          "output_type": "stream",
          "text": [
            "Learning rate set to 0.011444\n",
            "0:\tlearn: 0.6810994\ttotal: 4.81ms\tremaining: 4.8s\n",
            "1:\tlearn: 0.6706235\ttotal: 7.29ms\tremaining: 3.64s\n",
            "2:\tlearn: 0.6584785\ttotal: 9.63ms\tremaining: 3.2s\n",
            "3:\tlearn: 0.6477955\ttotal: 12ms\tremaining: 3s\n",
            "4:\tlearn: 0.6361651\ttotal: 14.4ms\tremaining: 2.86s\n",
            "5:\tlearn: 0.6253009\ttotal: 16.8ms\tremaining: 2.79s\n",
            "6:\tlearn: 0.6148212\ttotal: 19.1ms\tremaining: 2.7s\n",
            "7:\tlearn: 0.6025274\ttotal: 21.2ms\tremaining: 2.63s\n",
            "8:\tlearn: 0.5925933\ttotal: 23.4ms\tremaining: 2.58s\n",
            "9:\tlearn: 0.5825979\ttotal: 25.7ms\tremaining: 2.54s\n",
            "10:\tlearn: 0.5738230\ttotal: 28.5ms\tremaining: 2.56s\n",
            "11:\tlearn: 0.5656528\ttotal: 30.9ms\tremaining: 2.54s\n",
            "12:\tlearn: 0.5586611\ttotal: 33.2ms\tremaining: 2.52s\n",
            "13:\tlearn: 0.5481871\ttotal: 35.9ms\tremaining: 2.52s\n",
            "14:\tlearn: 0.5395982\ttotal: 38.8ms\tremaining: 2.55s\n",
            "15:\tlearn: 0.5300377\ttotal: 41.4ms\tremaining: 2.55s\n",
            "16:\tlearn: 0.5220326\ttotal: 43.8ms\tremaining: 2.53s\n",
            "17:\tlearn: 0.5146613\ttotal: 46.1ms\tremaining: 2.51s\n",
            "18:\tlearn: 0.5056446\ttotal: 48.3ms\tremaining: 2.5s\n",
            "19:\tlearn: 0.4989372\ttotal: 50.8ms\tremaining: 2.49s\n",
            "20:\tlearn: 0.4931672\ttotal: 53.2ms\tremaining: 2.48s\n",
            "21:\tlearn: 0.4875093\ttotal: 55.7ms\tremaining: 2.48s\n",
            "22:\tlearn: 0.4825231\ttotal: 58.1ms\tremaining: 2.47s\n",
            "23:\tlearn: 0.4759871\ttotal: 63.2ms\tremaining: 2.57s\n",
            "24:\tlearn: 0.4701183\ttotal: 67ms\tremaining: 2.61s\n",
            "25:\tlearn: 0.4638748\ttotal: 71.2ms\tremaining: 2.67s\n",
            "26:\tlearn: 0.4579542\ttotal: 74.8ms\tremaining: 2.7s\n",
            "27:\tlearn: 0.4527871\ttotal: 77.3ms\tremaining: 2.68s\n",
            "28:\tlearn: 0.4476397\ttotal: 79.6ms\tremaining: 2.67s\n",
            "29:\tlearn: 0.4419738\ttotal: 82.1ms\tremaining: 2.65s\n",
            "30:\tlearn: 0.4376872\ttotal: 84.3ms\tremaining: 2.63s\n",
            "31:\tlearn: 0.4325353\ttotal: 86.6ms\tremaining: 2.62s\n",
            "32:\tlearn: 0.4284609\ttotal: 88.8ms\tremaining: 2.6s\n",
            "33:\tlearn: 0.4245899\ttotal: 91.2ms\tremaining: 2.59s\n",
            "34:\tlearn: 0.4195602\ttotal: 93.9ms\tremaining: 2.59s\n",
            "35:\tlearn: 0.4139900\ttotal: 96.3ms\tremaining: 2.58s\n",
            "36:\tlearn: 0.4088597\ttotal: 98.7ms\tremaining: 2.57s\n",
            "37:\tlearn: 0.4056135\ttotal: 101ms\tremaining: 2.56s\n",
            "38:\tlearn: 0.4025622\ttotal: 104ms\tremaining: 2.55s\n",
            "39:\tlearn: 0.3987394\ttotal: 106ms\tremaining: 2.54s\n",
            "40:\tlearn: 0.3944440\ttotal: 108ms\tremaining: 2.53s\n",
            "41:\tlearn: 0.3903411\ttotal: 111ms\tremaining: 2.52s\n",
            "42:\tlearn: 0.3856658\ttotal: 113ms\tremaining: 2.52s\n",
            "43:\tlearn: 0.3819454\ttotal: 116ms\tremaining: 2.51s\n",
            "44:\tlearn: 0.3782115\ttotal: 118ms\tremaining: 2.5s\n",
            "45:\tlearn: 0.3745535\ttotal: 120ms\tremaining: 2.49s\n",
            "46:\tlearn: 0.3713320\ttotal: 123ms\tremaining: 2.48s\n",
            "47:\tlearn: 0.3683934\ttotal: 125ms\tremaining: 2.48s\n",
            "48:\tlearn: 0.3650545\ttotal: 127ms\tremaining: 2.47s\n",
            "49:\tlearn: 0.3613346\ttotal: 129ms\tremaining: 2.46s\n",
            "50:\tlearn: 0.3583879\ttotal: 132ms\tremaining: 2.45s\n",
            "51:\tlearn: 0.3553379\ttotal: 134ms\tremaining: 2.45s\n",
            "52:\tlearn: 0.3532701\ttotal: 137ms\tremaining: 2.44s\n",
            "53:\tlearn: 0.3499294\ttotal: 139ms\tremaining: 2.44s\n",
            "54:\tlearn: 0.3464919\ttotal: 142ms\tremaining: 2.44s\n",
            "55:\tlearn: 0.3431778\ttotal: 144ms\tremaining: 2.43s\n",
            "56:\tlearn: 0.3404873\ttotal: 147ms\tremaining: 2.43s\n",
            "57:\tlearn: 0.3376402\ttotal: 149ms\tremaining: 2.43s\n",
            "58:\tlearn: 0.3349504\ttotal: 152ms\tremaining: 2.42s\n",
            "59:\tlearn: 0.3324323\ttotal: 154ms\tremaining: 2.42s\n",
            "60:\tlearn: 0.3299642\ttotal: 157ms\tremaining: 2.41s\n",
            "61:\tlearn: 0.3274044\ttotal: 159ms\tremaining: 2.4s\n",
            "62:\tlearn: 0.3248837\ttotal: 161ms\tremaining: 2.4s\n",
            "63:\tlearn: 0.3222079\ttotal: 164ms\tremaining: 2.39s\n",
            "64:\tlearn: 0.3206319\ttotal: 166ms\tremaining: 2.39s\n",
            "65:\tlearn: 0.3192070\ttotal: 168ms\tremaining: 2.38s\n",
            "66:\tlearn: 0.3177503\ttotal: 171ms\tremaining: 2.38s\n",
            "67:\tlearn: 0.3159228\ttotal: 173ms\tremaining: 2.38s\n",
            "68:\tlearn: 0.3139295\ttotal: 176ms\tremaining: 2.37s\n",
            "69:\tlearn: 0.3123398\ttotal: 179ms\tremaining: 2.37s\n",
            "70:\tlearn: 0.3102455\ttotal: 181ms\tremaining: 2.37s\n",
            "71:\tlearn: 0.3081561\ttotal: 184ms\tremaining: 2.37s\n",
            "72:\tlearn: 0.3070659\ttotal: 190ms\tremaining: 2.42s\n",
            "73:\tlearn: 0.3051248\ttotal: 193ms\tremaining: 2.41s\n",
            "74:\tlearn: 0.3035604\ttotal: 195ms\tremaining: 2.41s\n",
            "75:\tlearn: 0.3017528\ttotal: 198ms\tremaining: 2.41s\n",
            "76:\tlearn: 0.3005736\ttotal: 200ms\tremaining: 2.4s\n",
            "77:\tlearn: 0.2990213\ttotal: 203ms\tremaining: 2.4s\n",
            "78:\tlearn: 0.2974684\ttotal: 206ms\tremaining: 2.4s\n",
            "79:\tlearn: 0.2962368\ttotal: 208ms\tremaining: 2.4s\n",
            "80:\tlearn: 0.2946860\ttotal: 211ms\tremaining: 2.4s\n",
            "81:\tlearn: 0.2932104\ttotal: 214ms\tremaining: 2.39s\n",
            "82:\tlearn: 0.2915513\ttotal: 217ms\tremaining: 2.4s\n",
            "83:\tlearn: 0.2902378\ttotal: 219ms\tremaining: 2.39s\n",
            "84:\tlearn: 0.2893679\ttotal: 222ms\tremaining: 2.39s\n",
            "85:\tlearn: 0.2883863\ttotal: 225ms\tremaining: 2.39s\n",
            "86:\tlearn: 0.2875747\ttotal: 227ms\tremaining: 2.38s\n",
            "87:\tlearn: 0.2860501\ttotal: 230ms\tremaining: 2.38s\n",
            "88:\tlearn: 0.2850424\ttotal: 232ms\tremaining: 2.37s\n",
            "89:\tlearn: 0.2838820\ttotal: 234ms\tremaining: 2.37s\n",
            "90:\tlearn: 0.2824925\ttotal: 236ms\tremaining: 2.36s\n",
            "91:\tlearn: 0.2810553\ttotal: 239ms\tremaining: 2.36s\n",
            "92:\tlearn: 0.2799030\ttotal: 241ms\tremaining: 2.35s\n",
            "93:\tlearn: 0.2785271\ttotal: 244ms\tremaining: 2.35s\n",
            "94:\tlearn: 0.2774951\ttotal: 246ms\tremaining: 2.35s\n",
            "95:\tlearn: 0.2764602\ttotal: 249ms\tremaining: 2.34s\n",
            "96:\tlearn: 0.2755061\ttotal: 251ms\tremaining: 2.34s\n",
            "97:\tlearn: 0.2744312\ttotal: 253ms\tremaining: 2.33s\n",
            "98:\tlearn: 0.2734607\ttotal: 256ms\tremaining: 2.33s\n",
            "99:\tlearn: 0.2722755\ttotal: 258ms\tremaining: 2.32s\n",
            "100:\tlearn: 0.2711700\ttotal: 261ms\tremaining: 2.32s\n",
            "101:\tlearn: 0.2704831\ttotal: 263ms\tremaining: 2.31s\n",
            "102:\tlearn: 0.2694101\ttotal: 265ms\tremaining: 2.31s\n",
            "103:\tlearn: 0.2686095\ttotal: 268ms\tremaining: 2.31s\n",
            "104:\tlearn: 0.2676306\ttotal: 270ms\tremaining: 2.3s\n",
            "105:\tlearn: 0.2667457\ttotal: 272ms\tremaining: 2.3s\n",
            "106:\tlearn: 0.2660166\ttotal: 275ms\tremaining: 2.29s\n",
            "107:\tlearn: 0.2651211\ttotal: 277ms\tremaining: 2.29s\n",
            "108:\tlearn: 0.2640058\ttotal: 280ms\tremaining: 2.29s\n",
            "109:\tlearn: 0.2627425\ttotal: 282ms\tremaining: 2.28s\n",
            "110:\tlearn: 0.2616571\ttotal: 284ms\tremaining: 2.28s\n",
            "111:\tlearn: 0.2604573\ttotal: 287ms\tremaining: 2.27s\n",
            "112:\tlearn: 0.2595778\ttotal: 289ms\tremaining: 2.27s\n",
            "113:\tlearn: 0.2589963\ttotal: 291ms\tremaining: 2.26s\n",
            "114:\tlearn: 0.2582501\ttotal: 294ms\tremaining: 2.26s\n",
            "115:\tlearn: 0.2573059\ttotal: 296ms\tremaining: 2.25s\n",
            "116:\tlearn: 0.2564842\ttotal: 298ms\tremaining: 2.25s\n",
            "117:\tlearn: 0.2553325\ttotal: 301ms\tremaining: 2.25s\n",
            "118:\tlearn: 0.2548783\ttotal: 303ms\tremaining: 2.25s\n",
            "119:\tlearn: 0.2542987\ttotal: 306ms\tremaining: 2.24s\n",
            "120:\tlearn: 0.2535019\ttotal: 308ms\tremaining: 2.24s\n",
            "121:\tlearn: 0.2528594\ttotal: 311ms\tremaining: 2.24s\n",
            "122:\tlearn: 0.2520558\ttotal: 313ms\tremaining: 2.23s\n",
            "123:\tlearn: 0.2511858\ttotal: 315ms\tremaining: 2.23s\n",
            "124:\tlearn: 0.2503529\ttotal: 318ms\tremaining: 2.22s\n",
            "125:\tlearn: 0.2498045\ttotal: 320ms\tremaining: 2.22s\n",
            "126:\tlearn: 0.2491009\ttotal: 322ms\tremaining: 2.21s\n",
            "127:\tlearn: 0.2483594\ttotal: 324ms\tremaining: 2.21s\n",
            "128:\tlearn: 0.2477498\ttotal: 327ms\tremaining: 2.21s\n",
            "129:\tlearn: 0.2472345\ttotal: 329ms\tremaining: 2.2s\n",
            "130:\tlearn: 0.2465494\ttotal: 331ms\tremaining: 2.2s\n",
            "131:\tlearn: 0.2460155\ttotal: 335ms\tremaining: 2.2s\n",
            "132:\tlearn: 0.2451475\ttotal: 337ms\tremaining: 2.2s\n",
            "133:\tlearn: 0.2445925\ttotal: 340ms\tremaining: 2.19s\n",
            "134:\tlearn: 0.2438802\ttotal: 342ms\tremaining: 2.19s\n",
            "135:\tlearn: 0.2432064\ttotal: 345ms\tremaining: 2.19s\n",
            "136:\tlearn: 0.2425868\ttotal: 347ms\tremaining: 2.19s\n",
            "137:\tlearn: 0.2422446\ttotal: 350ms\tremaining: 2.19s\n",
            "138:\tlearn: 0.2417704\ttotal: 353ms\tremaining: 2.18s\n",
            "139:\tlearn: 0.2412110\ttotal: 355ms\tremaining: 2.18s\n",
            "140:\tlearn: 0.2406589\ttotal: 357ms\tremaining: 2.18s\n",
            "141:\tlearn: 0.2399575\ttotal: 360ms\tremaining: 2.17s\n",
            "142:\tlearn: 0.2394467\ttotal: 363ms\tremaining: 2.17s\n",
            "143:\tlearn: 0.2389056\ttotal: 365ms\tremaining: 2.17s\n",
            "144:\tlearn: 0.2384867\ttotal: 367ms\tremaining: 2.17s\n",
            "145:\tlearn: 0.2380913\ttotal: 370ms\tremaining: 2.17s\n",
            "146:\tlearn: 0.2375323\ttotal: 375ms\tremaining: 2.18s\n",
            "147:\tlearn: 0.2366690\ttotal: 379ms\tremaining: 2.18s\n",
            "148:\tlearn: 0.2357489\ttotal: 381ms\tremaining: 2.18s\n",
            "149:\tlearn: 0.2354363\ttotal: 383ms\tremaining: 2.17s\n",
            "150:\tlearn: 0.2349475\ttotal: 386ms\tremaining: 2.17s\n",
            "151:\tlearn: 0.2344124\ttotal: 389ms\tremaining: 2.17s\n",
            "152:\tlearn: 0.2337824\ttotal: 391ms\tremaining: 2.17s\n",
            "153:\tlearn: 0.2332216\ttotal: 394ms\tremaining: 2.16s\n",
            "154:\tlearn: 0.2326035\ttotal: 396ms\tremaining: 2.16s\n",
            "155:\tlearn: 0.2321168\ttotal: 399ms\tremaining: 2.16s\n",
            "156:\tlearn: 0.2316555\ttotal: 401ms\tremaining: 2.15s\n",
            "157:\tlearn: 0.2310534\ttotal: 404ms\tremaining: 2.15s\n",
            "158:\tlearn: 0.2306188\ttotal: 406ms\tremaining: 2.15s\n",
            "159:\tlearn: 0.2301086\ttotal: 408ms\tremaining: 2.14s\n",
            "160:\tlearn: 0.2294082\ttotal: 411ms\tremaining: 2.14s\n",
            "161:\tlearn: 0.2287482\ttotal: 413ms\tremaining: 2.14s\n",
            "162:\tlearn: 0.2283764\ttotal: 415ms\tremaining: 2.13s\n",
            "163:\tlearn: 0.2277858\ttotal: 418ms\tremaining: 2.13s\n",
            "164:\tlearn: 0.2272841\ttotal: 420ms\tremaining: 2.13s\n",
            "165:\tlearn: 0.2269367\ttotal: 422ms\tremaining: 2.12s\n",
            "166:\tlearn: 0.2264841\ttotal: 425ms\tremaining: 2.12s\n",
            "167:\tlearn: 0.2260343\ttotal: 427ms\tremaining: 2.11s\n",
            "168:\tlearn: 0.2255106\ttotal: 429ms\tremaining: 2.11s\n",
            "169:\tlearn: 0.2248980\ttotal: 432ms\tremaining: 2.11s\n",
            "170:\tlearn: 0.2244293\ttotal: 434ms\tremaining: 2.1s\n",
            "171:\tlearn: 0.2239567\ttotal: 437ms\tremaining: 2.1s\n",
            "172:\tlearn: 0.2235311\ttotal: 439ms\tremaining: 2.1s\n",
            "173:\tlearn: 0.2233296\ttotal: 441ms\tremaining: 2.09s\n",
            "174:\tlearn: 0.2228925\ttotal: 444ms\tremaining: 2.09s\n",
            "175:\tlearn: 0.2223655\ttotal: 446ms\tremaining: 2.09s\n",
            "176:\tlearn: 0.2220814\ttotal: 449ms\tremaining: 2.09s\n",
            "177:\tlearn: 0.2214332\ttotal: 451ms\tremaining: 2.08s\n",
            "178:\tlearn: 0.2207970\ttotal: 454ms\tremaining: 2.08s\n",
            "179:\tlearn: 0.2202496\ttotal: 456ms\tremaining: 2.08s\n",
            "180:\tlearn: 0.2199354\ttotal: 458ms\tremaining: 2.07s\n",
            "181:\tlearn: 0.2197531\ttotal: 460ms\tremaining: 2.07s\n",
            "182:\tlearn: 0.2192983\ttotal: 463ms\tremaining: 2.06s\n",
            "183:\tlearn: 0.2186224\ttotal: 465ms\tremaining: 2.06s\n",
            "184:\tlearn: 0.2180903\ttotal: 467ms\tremaining: 2.06s\n",
            "185:\tlearn: 0.2176821\ttotal: 470ms\tremaining: 2.06s\n",
            "186:\tlearn: 0.2168194\ttotal: 472ms\tremaining: 2.05s\n",
            "187:\tlearn: 0.2166761\ttotal: 475ms\tremaining: 2.05s\n",
            "188:\tlearn: 0.2163970\ttotal: 477ms\tremaining: 2.05s\n",
            "189:\tlearn: 0.2161968\ttotal: 480ms\tremaining: 2.04s\n",
            "190:\tlearn: 0.2157006\ttotal: 482ms\tremaining: 2.04s\n",
            "191:\tlearn: 0.2153055\ttotal: 484ms\tremaining: 2.04s\n",
            "192:\tlearn: 0.2148506\ttotal: 487ms\tremaining: 2.03s\n",
            "193:\tlearn: 0.2145498\ttotal: 489ms\tremaining: 2.03s\n",
            "194:\tlearn: 0.2139967\ttotal: 492ms\tremaining: 2.03s\n",
            "195:\tlearn: 0.2133339\ttotal: 494ms\tremaining: 2.02s\n",
            "196:\tlearn: 0.2128500\ttotal: 496ms\tremaining: 2.02s\n",
            "197:\tlearn: 0.2126373\ttotal: 498ms\tremaining: 2.02s\n",
            "198:\tlearn: 0.2122620\ttotal: 501ms\tremaining: 2.02s\n",
            "199:\tlearn: 0.2119413\ttotal: 503ms\tremaining: 2.01s\n",
            "200:\tlearn: 0.2112819\ttotal: 505ms\tremaining: 2.01s\n",
            "201:\tlearn: 0.2107866\ttotal: 508ms\tremaining: 2.01s\n",
            "202:\tlearn: 0.2104822\ttotal: 510ms\tremaining: 2s\n",
            "203:\tlearn: 0.2101731\ttotal: 513ms\tremaining: 2s\n",
            "204:\tlearn: 0.2098038\ttotal: 515ms\tremaining: 2s\n",
            "205:\tlearn: 0.2095513\ttotal: 518ms\tremaining: 2s\n",
            "206:\tlearn: 0.2090937\ttotal: 520ms\tremaining: 1.99s\n",
            "207:\tlearn: 0.2087118\ttotal: 523ms\tremaining: 1.99s\n",
            "208:\tlearn: 0.2084050\ttotal: 526ms\tremaining: 1.99s\n",
            "209:\tlearn: 0.2080221\ttotal: 528ms\tremaining: 1.99s\n",
            "210:\tlearn: 0.2074946\ttotal: 531ms\tremaining: 1.98s\n",
            "211:\tlearn: 0.2072090\ttotal: 533ms\tremaining: 1.98s\n",
            "212:\tlearn: 0.2068835\ttotal: 536ms\tremaining: 1.98s\n",
            "213:\tlearn: 0.2063239\ttotal: 538ms\tremaining: 1.98s\n",
            "214:\tlearn: 0.2059887\ttotal: 540ms\tremaining: 1.97s\n",
            "215:\tlearn: 0.2056250\ttotal: 542ms\tremaining: 1.97s\n",
            "216:\tlearn: 0.2052917\ttotal: 545ms\tremaining: 1.97s\n",
            "217:\tlearn: 0.2050007\ttotal: 547ms\tremaining: 1.96s\n",
            "218:\tlearn: 0.2045472\ttotal: 550ms\tremaining: 1.96s\n",
            "219:\tlearn: 0.2042092\ttotal: 552ms\tremaining: 1.96s\n",
            "220:\tlearn: 0.2039658\ttotal: 555ms\tremaining: 1.96s\n",
            "221:\tlearn: 0.2037891\ttotal: 557ms\tremaining: 1.95s\n",
            "222:\tlearn: 0.2034643\ttotal: 562ms\tremaining: 1.96s\n",
            "223:\tlearn: 0.2030122\ttotal: 566ms\tremaining: 1.96s\n",
            "224:\tlearn: 0.2028107\ttotal: 569ms\tremaining: 1.96s\n",
            "225:\tlearn: 0.2024693\ttotal: 571ms\tremaining: 1.96s\n",
            "226:\tlearn: 0.2021670\ttotal: 574ms\tremaining: 1.95s\n",
            "227:\tlearn: 0.2019037\ttotal: 576ms\tremaining: 1.95s\n",
            "228:\tlearn: 0.2014620\ttotal: 579ms\tremaining: 1.95s\n",
            "229:\tlearn: 0.2010866\ttotal: 581ms\tremaining: 1.94s\n",
            "230:\tlearn: 0.2007781\ttotal: 583ms\tremaining: 1.94s\n",
            "231:\tlearn: 0.2004657\ttotal: 586ms\tremaining: 1.94s\n",
            "232:\tlearn: 0.2001083\ttotal: 588ms\tremaining: 1.94s\n",
            "233:\tlearn: 0.1998845\ttotal: 591ms\tremaining: 1.93s\n",
            "234:\tlearn: 0.1996117\ttotal: 593ms\tremaining: 1.93s\n",
            "235:\tlearn: 0.1990902\ttotal: 596ms\tremaining: 1.93s\n",
            "236:\tlearn: 0.1988633\ttotal: 598ms\tremaining: 1.93s\n",
            "237:\tlearn: 0.1984391\ttotal: 600ms\tremaining: 1.92s\n",
            "238:\tlearn: 0.1982275\ttotal: 603ms\tremaining: 1.92s\n",
            "239:\tlearn: 0.1979627\ttotal: 605ms\tremaining: 1.92s\n",
            "240:\tlearn: 0.1976413\ttotal: 608ms\tremaining: 1.91s\n",
            "241:\tlearn: 0.1973733\ttotal: 610ms\tremaining: 1.91s\n",
            "242:\tlearn: 0.1971565\ttotal: 612ms\tremaining: 1.91s\n",
            "243:\tlearn: 0.1968340\ttotal: 615ms\tremaining: 1.9s\n",
            "244:\tlearn: 0.1965501\ttotal: 617ms\tremaining: 1.9s\n",
            "245:\tlearn: 0.1962548\ttotal: 620ms\tremaining: 1.9s\n",
            "246:\tlearn: 0.1959321\ttotal: 622ms\tremaining: 1.9s\n",
            "247:\tlearn: 0.1957310\ttotal: 624ms\tremaining: 1.89s\n",
            "248:\tlearn: 0.1955133\ttotal: 627ms\tremaining: 1.89s\n",
            "249:\tlearn: 0.1952397\ttotal: 629ms\tremaining: 1.89s\n",
            "250:\tlearn: 0.1949515\ttotal: 631ms\tremaining: 1.88s\n",
            "251:\tlearn: 0.1948357\ttotal: 636ms\tremaining: 1.89s\n",
            "252:\tlearn: 0.1944736\ttotal: 639ms\tremaining: 1.89s\n",
            "253:\tlearn: 0.1940626\ttotal: 641ms\tremaining: 1.88s\n",
            "254:\tlearn: 0.1936869\ttotal: 644ms\tremaining: 1.88s\n",
            "255:\tlearn: 0.1933682\ttotal: 646ms\tremaining: 1.88s\n",
            "256:\tlearn: 0.1930677\ttotal: 649ms\tremaining: 1.88s\n",
            "257:\tlearn: 0.1928084\ttotal: 651ms\tremaining: 1.87s\n",
            "258:\tlearn: 0.1925329\ttotal: 654ms\tremaining: 1.87s\n",
            "259:\tlearn: 0.1922555\ttotal: 656ms\tremaining: 1.87s\n",
            "260:\tlearn: 0.1919430\ttotal: 659ms\tremaining: 1.86s\n",
            "261:\tlearn: 0.1916622\ttotal: 661ms\tremaining: 1.86s\n",
            "262:\tlearn: 0.1914279\ttotal: 664ms\tremaining: 1.86s\n",
            "263:\tlearn: 0.1911809\ttotal: 666ms\tremaining: 1.86s\n",
            "264:\tlearn: 0.1908726\ttotal: 668ms\tremaining: 1.85s\n",
            "265:\tlearn: 0.1905887\ttotal: 672ms\tremaining: 1.85s\n",
            "266:\tlearn: 0.1903397\ttotal: 675ms\tremaining: 1.85s\n",
            "267:\tlearn: 0.1901139\ttotal: 679ms\tremaining: 1.85s\n",
            "268:\tlearn: 0.1897898\ttotal: 682ms\tremaining: 1.85s\n",
            "269:\tlearn: 0.1894875\ttotal: 685ms\tremaining: 1.85s\n",
            "270:\tlearn: 0.1892234\ttotal: 687ms\tremaining: 1.85s\n",
            "271:\tlearn: 0.1889164\ttotal: 689ms\tremaining: 1.84s\n",
            "272:\tlearn: 0.1886267\ttotal: 692ms\tremaining: 1.84s\n",
            "273:\tlearn: 0.1884853\ttotal: 694ms\tremaining: 1.84s\n",
            "274:\tlearn: 0.1882595\ttotal: 696ms\tremaining: 1.83s\n",
            "275:\tlearn: 0.1880285\ttotal: 699ms\tremaining: 1.83s\n",
            "276:\tlearn: 0.1878895\ttotal: 701ms\tremaining: 1.83s\n",
            "277:\tlearn: 0.1874996\ttotal: 703ms\tremaining: 1.83s\n",
            "278:\tlearn: 0.1872166\ttotal: 705ms\tremaining: 1.82s\n",
            "279:\tlearn: 0.1869468\ttotal: 708ms\tremaining: 1.82s\n",
            "280:\tlearn: 0.1867792\ttotal: 710ms\tremaining: 1.82s\n",
            "281:\tlearn: 0.1866372\ttotal: 712ms\tremaining: 1.81s\n",
            "282:\tlearn: 0.1865052\ttotal: 715ms\tremaining: 1.81s\n",
            "283:\tlearn: 0.1863141\ttotal: 717ms\tremaining: 1.81s\n",
            "284:\tlearn: 0.1859618\ttotal: 719ms\tremaining: 1.8s\n",
            "285:\tlearn: 0.1857405\ttotal: 722ms\tremaining: 1.8s\n",
            "286:\tlearn: 0.1853397\ttotal: 724ms\tremaining: 1.8s\n",
            "287:\tlearn: 0.1850689\ttotal: 727ms\tremaining: 1.8s\n",
            "288:\tlearn: 0.1847661\ttotal: 729ms\tremaining: 1.79s\n",
            "289:\tlearn: 0.1845805\ttotal: 731ms\tremaining: 1.79s\n",
            "290:\tlearn: 0.1843054\ttotal: 734ms\tremaining: 1.79s\n",
            "291:\tlearn: 0.1840538\ttotal: 736ms\tremaining: 1.78s\n",
            "292:\tlearn: 0.1838421\ttotal: 738ms\tremaining: 1.78s\n",
            "293:\tlearn: 0.1834868\ttotal: 741ms\tremaining: 1.78s\n",
            "294:\tlearn: 0.1831675\ttotal: 743ms\tremaining: 1.78s\n",
            "295:\tlearn: 0.1829537\ttotal: 746ms\tremaining: 1.77s\n",
            "296:\tlearn: 0.1826294\ttotal: 748ms\tremaining: 1.77s\n",
            "297:\tlearn: 0.1824030\ttotal: 753ms\tremaining: 1.77s\n",
            "298:\tlearn: 0.1821391\ttotal: 756ms\tremaining: 1.77s\n",
            "299:\tlearn: 0.1819315\ttotal: 758ms\tremaining: 1.77s\n",
            "300:\tlearn: 0.1816190\ttotal: 761ms\tremaining: 1.77s\n",
            "301:\tlearn: 0.1812687\ttotal: 763ms\tremaining: 1.76s\n",
            "302:\tlearn: 0.1809776\ttotal: 766ms\tremaining: 1.76s\n",
            "303:\tlearn: 0.1807125\ttotal: 768ms\tremaining: 1.76s\n",
            "304:\tlearn: 0.1805089\ttotal: 770ms\tremaining: 1.75s\n",
            "305:\tlearn: 0.1802654\ttotal: 773ms\tremaining: 1.75s\n",
            "306:\tlearn: 0.1800275\ttotal: 775ms\tremaining: 1.75s\n",
            "307:\tlearn: 0.1798735\ttotal: 777ms\tremaining: 1.75s\n",
            "308:\tlearn: 0.1797145\ttotal: 779ms\tremaining: 1.74s\n",
            "309:\tlearn: 0.1795006\ttotal: 782ms\tremaining: 1.74s\n",
            "310:\tlearn: 0.1793595\ttotal: 784ms\tremaining: 1.74s\n",
            "311:\tlearn: 0.1792679\ttotal: 786ms\tremaining: 1.73s\n",
            "312:\tlearn: 0.1789608\ttotal: 788ms\tremaining: 1.73s\n",
            "313:\tlearn: 0.1787647\ttotal: 791ms\tremaining: 1.73s\n",
            "314:\tlearn: 0.1784742\ttotal: 793ms\tremaining: 1.72s\n",
            "315:\tlearn: 0.1782864\ttotal: 795ms\tremaining: 1.72s\n",
            "316:\tlearn: 0.1778492\ttotal: 797ms\tremaining: 1.72s\n",
            "317:\tlearn: 0.1775424\ttotal: 800ms\tremaining: 1.72s\n",
            "318:\tlearn: 0.1774164\ttotal: 802ms\tremaining: 1.71s\n",
            "319:\tlearn: 0.1771105\ttotal: 804ms\tremaining: 1.71s\n",
            "320:\tlearn: 0.1769609\ttotal: 806ms\tremaining: 1.71s\n",
            "321:\tlearn: 0.1767903\ttotal: 809ms\tremaining: 1.7s\n",
            "322:\tlearn: 0.1766313\ttotal: 811ms\tremaining: 1.7s\n",
            "323:\tlearn: 0.1764098\ttotal: 813ms\tremaining: 1.7s\n",
            "324:\tlearn: 0.1763107\ttotal: 816ms\tremaining: 1.69s\n",
            "325:\tlearn: 0.1761253\ttotal: 818ms\tremaining: 1.69s\n",
            "326:\tlearn: 0.1759210\ttotal: 821ms\tremaining: 1.69s\n",
            "327:\tlearn: 0.1757689\ttotal: 824ms\tremaining: 1.69s\n",
            "328:\tlearn: 0.1753619\ttotal: 826ms\tremaining: 1.68s\n",
            "329:\tlearn: 0.1752449\ttotal: 828ms\tremaining: 1.68s\n",
            "330:\tlearn: 0.1749816\ttotal: 831ms\tremaining: 1.68s\n",
            "331:\tlearn: 0.1748611\ttotal: 833ms\tremaining: 1.68s\n",
            "332:\tlearn: 0.1747622\ttotal: 836ms\tremaining: 1.67s\n",
            "333:\tlearn: 0.1746391\ttotal: 839ms\tremaining: 1.67s\n",
            "334:\tlearn: 0.1743007\ttotal: 841ms\tremaining: 1.67s\n",
            "335:\tlearn: 0.1741626\ttotal: 844ms\tremaining: 1.67s\n",
            "336:\tlearn: 0.1739576\ttotal: 846ms\tremaining: 1.66s\n",
            "337:\tlearn: 0.1737813\ttotal: 849ms\tremaining: 1.66s\n",
            "338:\tlearn: 0.1736488\ttotal: 851ms\tremaining: 1.66s\n",
            "339:\tlearn: 0.1734770\ttotal: 854ms\tremaining: 1.66s\n",
            "340:\tlearn: 0.1732173\ttotal: 856ms\tremaining: 1.65s\n",
            "341:\tlearn: 0.1729671\ttotal: 859ms\tremaining: 1.65s\n",
            "342:\tlearn: 0.1727914\ttotal: 861ms\tremaining: 1.65s\n",
            "343:\tlearn: 0.1726662\ttotal: 864ms\tremaining: 1.65s\n",
            "344:\tlearn: 0.1723264\ttotal: 866ms\tremaining: 1.64s\n",
            "345:\tlearn: 0.1720646\ttotal: 869ms\tremaining: 1.64s\n",
            "346:\tlearn: 0.1719478\ttotal: 871ms\tremaining: 1.64s\n",
            "347:\tlearn: 0.1714966\ttotal: 874ms\tremaining: 1.64s\n",
            "348:\tlearn: 0.1713461\ttotal: 876ms\tremaining: 1.63s\n",
            "349:\tlearn: 0.1708308\ttotal: 878ms\tremaining: 1.63s\n",
            "350:\tlearn: 0.1706288\ttotal: 881ms\tremaining: 1.63s\n",
            "351:\tlearn: 0.1703566\ttotal: 883ms\tremaining: 1.63s\n",
            "352:\tlearn: 0.1701000\ttotal: 885ms\tremaining: 1.62s\n",
            "353:\tlearn: 0.1700033\ttotal: 888ms\tremaining: 1.62s\n",
            "354:\tlearn: 0.1696699\ttotal: 890ms\tremaining: 1.62s\n",
            "355:\tlearn: 0.1694526\ttotal: 892ms\tremaining: 1.61s\n",
            "356:\tlearn: 0.1692500\ttotal: 895ms\tremaining: 1.61s\n",
            "357:\tlearn: 0.1690716\ttotal: 897ms\tremaining: 1.61s\n",
            "358:\tlearn: 0.1687397\ttotal: 900ms\tremaining: 1.61s\n",
            "359:\tlearn: 0.1684505\ttotal: 902ms\tremaining: 1.6s\n",
            "360:\tlearn: 0.1682007\ttotal: 905ms\tremaining: 1.6s\n",
            "361:\tlearn: 0.1679910\ttotal: 907ms\tremaining: 1.6s\n",
            "362:\tlearn: 0.1678826\ttotal: 910ms\tremaining: 1.6s\n",
            "363:\tlearn: 0.1676115\ttotal: 912ms\tremaining: 1.59s\n",
            "364:\tlearn: 0.1673571\ttotal: 915ms\tremaining: 1.59s\n",
            "365:\tlearn: 0.1672921\ttotal: 918ms\tremaining: 1.59s\n",
            "366:\tlearn: 0.1669909\ttotal: 920ms\tremaining: 1.59s\n",
            "367:\tlearn: 0.1667096\ttotal: 923ms\tremaining: 1.58s\n",
            "368:\tlearn: 0.1665489\ttotal: 925ms\tremaining: 1.58s\n",
            "369:\tlearn: 0.1663060\ttotal: 928ms\tremaining: 1.58s\n",
            "370:\tlearn: 0.1660768\ttotal: 930ms\tremaining: 1.58s\n",
            "371:\tlearn: 0.1658780\ttotal: 934ms\tremaining: 1.58s\n",
            "372:\tlearn: 0.1656431\ttotal: 939ms\tremaining: 1.58s\n",
            "373:\tlearn: 0.1655128\ttotal: 942ms\tremaining: 1.57s\n",
            "374:\tlearn: 0.1654063\ttotal: 944ms\tremaining: 1.57s\n",
            "375:\tlearn: 0.1653382\ttotal: 947ms\tremaining: 1.57s\n",
            "376:\tlearn: 0.1652044\ttotal: 949ms\tremaining: 1.57s\n",
            "377:\tlearn: 0.1650379\ttotal: 951ms\tremaining: 1.56s\n",
            "378:\tlearn: 0.1645235\ttotal: 954ms\tremaining: 1.56s\n",
            "379:\tlearn: 0.1643861\ttotal: 956ms\tremaining: 1.56s\n",
            "380:\tlearn: 0.1641277\ttotal: 958ms\tremaining: 1.56s\n",
            "381:\tlearn: 0.1638881\ttotal: 961ms\tremaining: 1.55s\n",
            "382:\tlearn: 0.1637177\ttotal: 963ms\tremaining: 1.55s\n",
            "383:\tlearn: 0.1634360\ttotal: 965ms\tremaining: 1.55s\n",
            "384:\tlearn: 0.1632958\ttotal: 968ms\tremaining: 1.55s\n",
            "385:\tlearn: 0.1631076\ttotal: 970ms\tremaining: 1.54s\n",
            "386:\tlearn: 0.1629998\ttotal: 973ms\tremaining: 1.54s\n",
            "387:\tlearn: 0.1629350\ttotal: 975ms\tremaining: 1.54s\n",
            "388:\tlearn: 0.1626397\ttotal: 977ms\tremaining: 1.53s\n",
            "389:\tlearn: 0.1625000\ttotal: 979ms\tremaining: 1.53s\n",
            "390:\tlearn: 0.1623998\ttotal: 982ms\tremaining: 1.53s\n",
            "391:\tlearn: 0.1622084\ttotal: 984ms\tremaining: 1.52s\n",
            "392:\tlearn: 0.1619970\ttotal: 989ms\tremaining: 1.53s\n",
            "393:\tlearn: 0.1618857\ttotal: 993ms\tremaining: 1.53s\n",
            "394:\tlearn: 0.1616873\ttotal: 997ms\tremaining: 1.53s\n",
            "395:\tlearn: 0.1612251\ttotal: 1000ms\tremaining: 1.52s\n",
            "396:\tlearn: 0.1609138\ttotal: 1s\tremaining: 1.52s\n",
            "397:\tlearn: 0.1607660\ttotal: 1s\tremaining: 1.52s\n",
            "398:\tlearn: 0.1606095\ttotal: 1.01s\tremaining: 1.52s\n",
            "399:\tlearn: 0.1603946\ttotal: 1.01s\tremaining: 1.51s\n",
            "400:\tlearn: 0.1602264\ttotal: 1.01s\tremaining: 1.51s\n",
            "401:\tlearn: 0.1599648\ttotal: 1.01s\tremaining: 1.51s\n",
            "402:\tlearn: 0.1597305\ttotal: 1.02s\tremaining: 1.51s\n",
            "403:\tlearn: 0.1594550\ttotal: 1.02s\tremaining: 1.5s\n",
            "404:\tlearn: 0.1593124\ttotal: 1.02s\tremaining: 1.5s\n",
            "405:\tlearn: 0.1591479\ttotal: 1.02s\tremaining: 1.5s\n",
            "406:\tlearn: 0.1589614\ttotal: 1.03s\tremaining: 1.5s\n",
            "407:\tlearn: 0.1587939\ttotal: 1.03s\tremaining: 1.49s\n",
            "408:\tlearn: 0.1585887\ttotal: 1.03s\tremaining: 1.49s\n",
            "409:\tlearn: 0.1584344\ttotal: 1.03s\tremaining: 1.49s\n",
            "410:\tlearn: 0.1582276\ttotal: 1.04s\tremaining: 1.49s\n",
            "411:\tlearn: 0.1579463\ttotal: 1.04s\tremaining: 1.48s\n",
            "412:\tlearn: 0.1577766\ttotal: 1.04s\tremaining: 1.48s\n",
            "413:\tlearn: 0.1575877\ttotal: 1.04s\tremaining: 1.48s\n",
            "414:\tlearn: 0.1574277\ttotal: 1.04s\tremaining: 1.47s\n",
            "415:\tlearn: 0.1572479\ttotal: 1.05s\tremaining: 1.47s\n",
            "416:\tlearn: 0.1568402\ttotal: 1.05s\tremaining: 1.47s\n",
            "417:\tlearn: 0.1567280\ttotal: 1.05s\tremaining: 1.47s\n",
            "418:\tlearn: 0.1565990\ttotal: 1.05s\tremaining: 1.46s\n",
            "419:\tlearn: 0.1563873\ttotal: 1.06s\tremaining: 1.46s\n",
            "420:\tlearn: 0.1563413\ttotal: 1.06s\tremaining: 1.46s\n",
            "421:\tlearn: 0.1561891\ttotal: 1.06s\tremaining: 1.45s\n",
            "422:\tlearn: 0.1560207\ttotal: 1.06s\tremaining: 1.45s\n",
            "423:\tlearn: 0.1558663\ttotal: 1.07s\tremaining: 1.45s\n",
            "424:\tlearn: 0.1556239\ttotal: 1.07s\tremaining: 1.45s\n",
            "425:\tlearn: 0.1555059\ttotal: 1.07s\tremaining: 1.44s\n",
            "426:\tlearn: 0.1553840\ttotal: 1.07s\tremaining: 1.44s\n",
            "427:\tlearn: 0.1551993\ttotal: 1.07s\tremaining: 1.44s\n",
            "428:\tlearn: 0.1550672\ttotal: 1.08s\tremaining: 1.44s\n",
            "429:\tlearn: 0.1547214\ttotal: 1.08s\tremaining: 1.43s\n",
            "430:\tlearn: 0.1545559\ttotal: 1.08s\tremaining: 1.43s\n",
            "431:\tlearn: 0.1544422\ttotal: 1.09s\tremaining: 1.43s\n",
            "432:\tlearn: 0.1543347\ttotal: 1.09s\tremaining: 1.43s\n",
            "433:\tlearn: 0.1541619\ttotal: 1.09s\tremaining: 1.42s\n",
            "434:\tlearn: 0.1540178\ttotal: 1.09s\tremaining: 1.42s\n",
            "435:\tlearn: 0.1538918\ttotal: 1.1s\tremaining: 1.42s\n",
            "436:\tlearn: 0.1537633\ttotal: 1.1s\tremaining: 1.42s\n",
            "437:\tlearn: 0.1535822\ttotal: 1.1s\tremaining: 1.41s\n",
            "438:\tlearn: 0.1533249\ttotal: 1.1s\tremaining: 1.41s\n",
            "439:\tlearn: 0.1531997\ttotal: 1.11s\tremaining: 1.41s\n",
            "440:\tlearn: 0.1529827\ttotal: 1.11s\tremaining: 1.41s\n",
            "441:\tlearn: 0.1529218\ttotal: 1.11s\tremaining: 1.4s\n",
            "442:\tlearn: 0.1528191\ttotal: 1.11s\tremaining: 1.4s\n",
            "443:\tlearn: 0.1526581\ttotal: 1.11s\tremaining: 1.4s\n",
            "444:\tlearn: 0.1525021\ttotal: 1.12s\tremaining: 1.39s\n",
            "445:\tlearn: 0.1522820\ttotal: 1.12s\tremaining: 1.39s\n",
            "446:\tlearn: 0.1520812\ttotal: 1.13s\tremaining: 1.39s\n",
            "447:\tlearn: 0.1519327\ttotal: 1.13s\tremaining: 1.39s\n",
            "448:\tlearn: 0.1517498\ttotal: 1.13s\tremaining: 1.39s\n",
            "449:\tlearn: 0.1516227\ttotal: 1.13s\tremaining: 1.39s\n",
            "450:\tlearn: 0.1515169\ttotal: 1.14s\tremaining: 1.38s\n",
            "451:\tlearn: 0.1512745\ttotal: 1.14s\tremaining: 1.38s\n",
            "452:\tlearn: 0.1511086\ttotal: 1.14s\tremaining: 1.38s\n",
            "453:\tlearn: 0.1508657\ttotal: 1.14s\tremaining: 1.37s\n",
            "454:\tlearn: 0.1507618\ttotal: 1.15s\tremaining: 1.37s\n",
            "455:\tlearn: 0.1506482\ttotal: 1.15s\tremaining: 1.37s\n",
            "456:\tlearn: 0.1505882\ttotal: 1.15s\tremaining: 1.37s\n",
            "457:\tlearn: 0.1504417\ttotal: 1.15s\tremaining: 1.36s\n",
            "458:\tlearn: 0.1501876\ttotal: 1.15s\tremaining: 1.36s\n",
            "459:\tlearn: 0.1500589\ttotal: 1.16s\tremaining: 1.36s\n",
            "460:\tlearn: 0.1498377\ttotal: 1.16s\tremaining: 1.35s\n",
            "461:\tlearn: 0.1497359\ttotal: 1.16s\tremaining: 1.35s\n",
            "462:\tlearn: 0.1494823\ttotal: 1.16s\tremaining: 1.35s\n",
            "463:\tlearn: 0.1491150\ttotal: 1.17s\tremaining: 1.35s\n",
            "464:\tlearn: 0.1490294\ttotal: 1.17s\tremaining: 1.34s\n",
            "465:\tlearn: 0.1488637\ttotal: 1.17s\tremaining: 1.34s\n",
            "466:\tlearn: 0.1486550\ttotal: 1.17s\tremaining: 1.34s\n",
            "467:\tlearn: 0.1484439\ttotal: 1.18s\tremaining: 1.34s\n",
            "468:\tlearn: 0.1483565\ttotal: 1.18s\tremaining: 1.33s\n",
            "469:\tlearn: 0.1483155\ttotal: 1.18s\tremaining: 1.33s\n",
            "470:\tlearn: 0.1481822\ttotal: 1.18s\tremaining: 1.33s\n",
            "471:\tlearn: 0.1480898\ttotal: 1.19s\tremaining: 1.33s\n",
            "472:\tlearn: 0.1479550\ttotal: 1.19s\tremaining: 1.32s\n",
            "473:\tlearn: 0.1477943\ttotal: 1.19s\tremaining: 1.32s\n",
            "474:\tlearn: 0.1477077\ttotal: 1.19s\tremaining: 1.32s\n",
            "475:\tlearn: 0.1475868\ttotal: 1.2s\tremaining: 1.32s\n",
            "476:\tlearn: 0.1475252\ttotal: 1.2s\tremaining: 1.31s\n",
            "477:\tlearn: 0.1471334\ttotal: 1.2s\tremaining: 1.31s\n",
            "478:\tlearn: 0.1468621\ttotal: 1.2s\tremaining: 1.31s\n",
            "479:\tlearn: 0.1467100\ttotal: 1.21s\tremaining: 1.3s\n",
            "480:\tlearn: 0.1466156\ttotal: 1.21s\tremaining: 1.3s\n",
            "481:\tlearn: 0.1464566\ttotal: 1.21s\tremaining: 1.3s\n",
            "482:\tlearn: 0.1464014\ttotal: 1.21s\tremaining: 1.3s\n",
            "483:\tlearn: 0.1461585\ttotal: 1.22s\tremaining: 1.29s\n",
            "484:\tlearn: 0.1459733\ttotal: 1.22s\tremaining: 1.29s\n",
            "485:\tlearn: 0.1458000\ttotal: 1.22s\tremaining: 1.29s\n",
            "486:\tlearn: 0.1457502\ttotal: 1.22s\tremaining: 1.29s\n",
            "487:\tlearn: 0.1455835\ttotal: 1.22s\tremaining: 1.28s\n",
            "488:\tlearn: 0.1454414\ttotal: 1.23s\tremaining: 1.28s\n",
            "489:\tlearn: 0.1452948\ttotal: 1.23s\tremaining: 1.28s\n",
            "490:\tlearn: 0.1450618\ttotal: 1.23s\tremaining: 1.28s\n",
            "491:\tlearn: 0.1449492\ttotal: 1.23s\tremaining: 1.27s\n",
            "492:\tlearn: 0.1447177\ttotal: 1.24s\tremaining: 1.27s\n",
            "493:\tlearn: 0.1446401\ttotal: 1.24s\tremaining: 1.27s\n",
            "494:\tlearn: 0.1444126\ttotal: 1.24s\tremaining: 1.26s\n",
            "495:\tlearn: 0.1443608\ttotal: 1.24s\tremaining: 1.26s\n",
            "496:\tlearn: 0.1441680\ttotal: 1.24s\tremaining: 1.26s\n",
            "497:\tlearn: 0.1439989\ttotal: 1.25s\tremaining: 1.26s\n",
            "498:\tlearn: 0.1437055\ttotal: 1.25s\tremaining: 1.25s\n",
            "499:\tlearn: 0.1435745\ttotal: 1.25s\tremaining: 1.25s\n",
            "500:\tlearn: 0.1432616\ttotal: 1.25s\tremaining: 1.25s\n",
            "501:\tlearn: 0.1430281\ttotal: 1.26s\tremaining: 1.25s\n",
            "502:\tlearn: 0.1428194\ttotal: 1.26s\tremaining: 1.24s\n",
            "503:\tlearn: 0.1425968\ttotal: 1.26s\tremaining: 1.24s\n",
            "504:\tlearn: 0.1425119\ttotal: 1.26s\tremaining: 1.24s\n",
            "505:\tlearn: 0.1422262\ttotal: 1.27s\tremaining: 1.24s\n",
            "506:\tlearn: 0.1421264\ttotal: 1.27s\tremaining: 1.23s\n",
            "507:\tlearn: 0.1420045\ttotal: 1.27s\tremaining: 1.23s\n",
            "508:\tlearn: 0.1419280\ttotal: 1.27s\tremaining: 1.23s\n",
            "509:\tlearn: 0.1418334\ttotal: 1.28s\tremaining: 1.23s\n",
            "510:\tlearn: 0.1415883\ttotal: 1.28s\tremaining: 1.23s\n",
            "511:\tlearn: 0.1414985\ttotal: 1.28s\tremaining: 1.22s\n",
            "512:\tlearn: 0.1412396\ttotal: 1.28s\tremaining: 1.22s\n",
            "513:\tlearn: 0.1411453\ttotal: 1.29s\tremaining: 1.22s\n",
            "514:\tlearn: 0.1409936\ttotal: 1.29s\tremaining: 1.22s\n",
            "515:\tlearn: 0.1408715\ttotal: 1.29s\tremaining: 1.21s\n",
            "516:\tlearn: 0.1407267\ttotal: 1.3s\tremaining: 1.21s\n",
            "517:\tlearn: 0.1403219\ttotal: 1.3s\tremaining: 1.21s\n",
            "518:\tlearn: 0.1401338\ttotal: 1.3s\tremaining: 1.21s\n",
            "519:\tlearn: 0.1400122\ttotal: 1.3s\tremaining: 1.2s\n",
            "520:\tlearn: 0.1397600\ttotal: 1.31s\tremaining: 1.2s\n",
            "521:\tlearn: 0.1395964\ttotal: 1.31s\tremaining: 1.2s\n",
            "522:\tlearn: 0.1393996\ttotal: 1.32s\tremaining: 1.2s\n",
            "523:\tlearn: 0.1391181\ttotal: 1.32s\tremaining: 1.2s\n",
            "524:\tlearn: 0.1389087\ttotal: 1.32s\tremaining: 1.2s\n",
            "525:\tlearn: 0.1388060\ttotal: 1.32s\tremaining: 1.19s\n",
            "526:\tlearn: 0.1387346\ttotal: 1.33s\tremaining: 1.19s\n",
            "527:\tlearn: 0.1384979\ttotal: 1.33s\tremaining: 1.19s\n",
            "528:\tlearn: 0.1383170\ttotal: 1.33s\tremaining: 1.19s\n",
            "529:\tlearn: 0.1381539\ttotal: 1.33s\tremaining: 1.18s\n",
            "530:\tlearn: 0.1379383\ttotal: 1.33s\tremaining: 1.18s\n",
            "531:\tlearn: 0.1378083\ttotal: 1.34s\tremaining: 1.18s\n",
            "532:\tlearn: 0.1377312\ttotal: 1.34s\tremaining: 1.17s\n",
            "533:\tlearn: 0.1374363\ttotal: 1.34s\tremaining: 1.17s\n",
            "534:\tlearn: 0.1371716\ttotal: 1.34s\tremaining: 1.17s\n",
            "535:\tlearn: 0.1370698\ttotal: 1.35s\tremaining: 1.17s\n",
            "536:\tlearn: 0.1369629\ttotal: 1.35s\tremaining: 1.16s\n",
            "537:\tlearn: 0.1367440\ttotal: 1.35s\tremaining: 1.16s\n",
            "538:\tlearn: 0.1365826\ttotal: 1.35s\tremaining: 1.16s\n",
            "539:\tlearn: 0.1364785\ttotal: 1.36s\tremaining: 1.16s\n",
            "540:\tlearn: 0.1363511\ttotal: 1.36s\tremaining: 1.15s\n",
            "541:\tlearn: 0.1362496\ttotal: 1.36s\tremaining: 1.15s\n",
            "542:\tlearn: 0.1360991\ttotal: 1.36s\tremaining: 1.15s\n",
            "543:\tlearn: 0.1359708\ttotal: 1.36s\tremaining: 1.14s\n",
            "544:\tlearn: 0.1358429\ttotal: 1.37s\tremaining: 1.14s\n",
            "545:\tlearn: 0.1357093\ttotal: 1.37s\tremaining: 1.14s\n",
            "546:\tlearn: 0.1355867\ttotal: 1.37s\tremaining: 1.14s\n",
            "547:\tlearn: 0.1353190\ttotal: 1.37s\tremaining: 1.13s\n",
            "548:\tlearn: 0.1352478\ttotal: 1.38s\tremaining: 1.13s\n",
            "549:\tlearn: 0.1351465\ttotal: 1.38s\tremaining: 1.13s\n",
            "550:\tlearn: 0.1349872\ttotal: 1.38s\tremaining: 1.13s\n",
            "551:\tlearn: 0.1347912\ttotal: 1.38s\tremaining: 1.12s\n",
            "552:\tlearn: 0.1347376\ttotal: 1.39s\tremaining: 1.12s\n",
            "553:\tlearn: 0.1346410\ttotal: 1.39s\tremaining: 1.12s\n",
            "554:\tlearn: 0.1345171\ttotal: 1.39s\tremaining: 1.11s\n",
            "555:\tlearn: 0.1343164\ttotal: 1.39s\tremaining: 1.11s\n",
            "556:\tlearn: 0.1339045\ttotal: 1.4s\tremaining: 1.11s\n",
            "557:\tlearn: 0.1337316\ttotal: 1.4s\tremaining: 1.11s\n",
            "558:\tlearn: 0.1336783\ttotal: 1.4s\tremaining: 1.1s\n",
            "559:\tlearn: 0.1335798\ttotal: 1.4s\tremaining: 1.1s\n",
            "560:\tlearn: 0.1335219\ttotal: 1.4s\tremaining: 1.1s\n",
            "561:\tlearn: 0.1332852\ttotal: 1.41s\tremaining: 1.1s\n",
            "562:\tlearn: 0.1330708\ttotal: 1.41s\tremaining: 1.09s\n",
            "563:\tlearn: 0.1329166\ttotal: 1.41s\tremaining: 1.09s\n",
            "564:\tlearn: 0.1328577\ttotal: 1.41s\tremaining: 1.09s\n",
            "565:\tlearn: 0.1327566\ttotal: 1.42s\tremaining: 1.08s\n",
            "566:\tlearn: 0.1326734\ttotal: 1.42s\tremaining: 1.08s\n",
            "567:\tlearn: 0.1324943\ttotal: 1.42s\tremaining: 1.08s\n",
            "568:\tlearn: 0.1324166\ttotal: 1.42s\tremaining: 1.08s\n",
            "569:\tlearn: 0.1322742\ttotal: 1.43s\tremaining: 1.07s\n",
            "570:\tlearn: 0.1322312\ttotal: 1.43s\tremaining: 1.07s\n",
            "571:\tlearn: 0.1321237\ttotal: 1.43s\tremaining: 1.07s\n",
            "572:\tlearn: 0.1320199\ttotal: 1.43s\tremaining: 1.07s\n",
            "573:\tlearn: 0.1317974\ttotal: 1.43s\tremaining: 1.06s\n",
            "574:\tlearn: 0.1315693\ttotal: 1.44s\tremaining: 1.06s\n",
            "575:\tlearn: 0.1314291\ttotal: 1.44s\tremaining: 1.06s\n",
            "576:\tlearn: 0.1313003\ttotal: 1.46s\tremaining: 1.07s\n",
            "577:\tlearn: 0.1312290\ttotal: 1.47s\tremaining: 1.07s\n",
            "578:\tlearn: 0.1310957\ttotal: 1.47s\tremaining: 1.07s\n",
            "579:\tlearn: 0.1310768\ttotal: 1.47s\tremaining: 1.06s\n",
            "580:\tlearn: 0.1309877\ttotal: 1.47s\tremaining: 1.06s\n",
            "581:\tlearn: 0.1308492\ttotal: 1.48s\tremaining: 1.06s\n",
            "582:\tlearn: 0.1307118\ttotal: 1.48s\tremaining: 1.06s\n",
            "583:\tlearn: 0.1305208\ttotal: 1.48s\tremaining: 1.05s\n",
            "584:\tlearn: 0.1303130\ttotal: 1.48s\tremaining: 1.05s\n",
            "585:\tlearn: 0.1300827\ttotal: 1.49s\tremaining: 1.05s\n",
            "586:\tlearn: 0.1299342\ttotal: 1.49s\tremaining: 1.05s\n",
            "587:\tlearn: 0.1298295\ttotal: 1.49s\tremaining: 1.04s\n",
            "588:\tlearn: 0.1296225\ttotal: 1.49s\tremaining: 1.04s\n",
            "589:\tlearn: 0.1294253\ttotal: 1.5s\tremaining: 1.04s\n",
            "590:\tlearn: 0.1292328\ttotal: 1.5s\tremaining: 1.04s\n",
            "591:\tlearn: 0.1290923\ttotal: 1.51s\tremaining: 1.04s\n",
            "592:\tlearn: 0.1289452\ttotal: 1.51s\tremaining: 1.04s\n",
            "593:\tlearn: 0.1288061\ttotal: 1.51s\tremaining: 1.03s\n",
            "594:\tlearn: 0.1285331\ttotal: 1.52s\tremaining: 1.03s\n",
            "595:\tlearn: 0.1283690\ttotal: 1.52s\tremaining: 1.03s\n",
            "596:\tlearn: 0.1282071\ttotal: 1.52s\tremaining: 1.03s\n",
            "597:\tlearn: 0.1279214\ttotal: 1.52s\tremaining: 1.02s\n",
            "598:\tlearn: 0.1276883\ttotal: 1.53s\tremaining: 1.02s\n",
            "599:\tlearn: 0.1275783\ttotal: 1.53s\tremaining: 1.02s\n",
            "600:\tlearn: 0.1274280\ttotal: 1.53s\tremaining: 1.02s\n",
            "601:\tlearn: 0.1271437\ttotal: 1.54s\tremaining: 1.01s\n",
            "602:\tlearn: 0.1269957\ttotal: 1.54s\tremaining: 1.01s\n",
            "603:\tlearn: 0.1268439\ttotal: 1.54s\tremaining: 1.01s\n",
            "604:\tlearn: 0.1265544\ttotal: 1.54s\tremaining: 1.01s\n",
            "605:\tlearn: 0.1263371\ttotal: 1.54s\tremaining: 1s\n",
            "606:\tlearn: 0.1262162\ttotal: 1.55s\tremaining: 1s\n",
            "607:\tlearn: 0.1260387\ttotal: 1.55s\tremaining: 999ms\n",
            "608:\tlearn: 0.1258802\ttotal: 1.55s\tremaining: 996ms\n",
            "609:\tlearn: 0.1255970\ttotal: 1.55s\tremaining: 994ms\n",
            "610:\tlearn: 0.1253158\ttotal: 1.56s\tremaining: 991ms\n",
            "611:\tlearn: 0.1252140\ttotal: 1.56s\tremaining: 988ms\n",
            "612:\tlearn: 0.1251069\ttotal: 1.56s\tremaining: 985ms\n",
            "613:\tlearn: 0.1249963\ttotal: 1.56s\tremaining: 983ms\n",
            "614:\tlearn: 0.1248315\ttotal: 1.56s\tremaining: 980ms\n",
            "615:\tlearn: 0.1245629\ttotal: 1.57s\tremaining: 977ms\n",
            "616:\tlearn: 0.1245019\ttotal: 1.57s\tremaining: 975ms\n",
            "617:\tlearn: 0.1244574\ttotal: 1.57s\tremaining: 972ms\n",
            "618:\tlearn: 0.1243154\ttotal: 1.57s\tremaining: 970ms\n",
            "619:\tlearn: 0.1242195\ttotal: 1.58s\tremaining: 967ms\n",
            "620:\tlearn: 0.1240090\ttotal: 1.58s\tremaining: 964ms\n",
            "621:\tlearn: 0.1238662\ttotal: 1.58s\tremaining: 962ms\n",
            "622:\tlearn: 0.1238303\ttotal: 1.58s\tremaining: 959ms\n",
            "623:\tlearn: 0.1237493\ttotal: 1.59s\tremaining: 957ms\n",
            "624:\tlearn: 0.1235346\ttotal: 1.59s\tremaining: 954ms\n",
            "625:\tlearn: 0.1235062\ttotal: 1.59s\tremaining: 952ms\n",
            "626:\tlearn: 0.1233413\ttotal: 1.59s\tremaining: 949ms\n",
            "627:\tlearn: 0.1232272\ttotal: 1.6s\tremaining: 946ms\n",
            "628:\tlearn: 0.1231114\ttotal: 1.6s\tremaining: 944ms\n",
            "629:\tlearn: 0.1230160\ttotal: 1.6s\tremaining: 941ms\n",
            "630:\tlearn: 0.1228792\ttotal: 1.6s\tremaining: 938ms\n",
            "631:\tlearn: 0.1226597\ttotal: 1.61s\tremaining: 936ms\n",
            "632:\tlearn: 0.1225084\ttotal: 1.61s\tremaining: 933ms\n",
            "633:\tlearn: 0.1223815\ttotal: 1.61s\tremaining: 930ms\n",
            "634:\tlearn: 0.1222342\ttotal: 1.61s\tremaining: 928ms\n",
            "635:\tlearn: 0.1221728\ttotal: 1.62s\tremaining: 925ms\n",
            "636:\tlearn: 0.1219940\ttotal: 1.62s\tremaining: 922ms\n",
            "637:\tlearn: 0.1218080\ttotal: 1.62s\tremaining: 920ms\n",
            "638:\tlearn: 0.1217209\ttotal: 1.62s\tremaining: 917ms\n",
            "639:\tlearn: 0.1215017\ttotal: 1.63s\tremaining: 914ms\n",
            "640:\tlearn: 0.1214488\ttotal: 1.63s\tremaining: 911ms\n",
            "641:\tlearn: 0.1213134\ttotal: 1.63s\tremaining: 909ms\n",
            "642:\tlearn: 0.1211593\ttotal: 1.63s\tremaining: 906ms\n",
            "643:\tlearn: 0.1210570\ttotal: 1.63s\tremaining: 903ms\n",
            "644:\tlearn: 0.1208586\ttotal: 1.64s\tremaining: 901ms\n",
            "645:\tlearn: 0.1207176\ttotal: 1.64s\tremaining: 898ms\n",
            "646:\tlearn: 0.1204671\ttotal: 1.64s\tremaining: 896ms\n",
            "647:\tlearn: 0.1203582\ttotal: 1.64s\tremaining: 893ms\n",
            "648:\tlearn: 0.1201379\ttotal: 1.65s\tremaining: 891ms\n",
            "649:\tlearn: 0.1198998\ttotal: 1.65s\tremaining: 888ms\n",
            "650:\tlearn: 0.1198118\ttotal: 1.65s\tremaining: 886ms\n",
            "651:\tlearn: 0.1196485\ttotal: 1.66s\tremaining: 884ms\n",
            "652:\tlearn: 0.1195187\ttotal: 1.66s\tremaining: 881ms\n",
            "653:\tlearn: 0.1194808\ttotal: 1.66s\tremaining: 879ms\n",
            "654:\tlearn: 0.1193789\ttotal: 1.66s\tremaining: 876ms\n",
            "655:\tlearn: 0.1192357\ttotal: 1.67s\tremaining: 873ms\n",
            "656:\tlearn: 0.1191980\ttotal: 1.67s\tremaining: 871ms\n",
            "657:\tlearn: 0.1190368\ttotal: 1.67s\tremaining: 868ms\n",
            "658:\tlearn: 0.1189620\ttotal: 1.67s\tremaining: 865ms\n",
            "659:\tlearn: 0.1188133\ttotal: 1.68s\tremaining: 863ms\n",
            "660:\tlearn: 0.1187629\ttotal: 1.68s\tremaining: 861ms\n",
            "661:\tlearn: 0.1186133\ttotal: 1.68s\tremaining: 858ms\n",
            "662:\tlearn: 0.1184437\ttotal: 1.69s\tremaining: 858ms\n",
            "663:\tlearn: 0.1182289\ttotal: 1.69s\tremaining: 855ms\n",
            "664:\tlearn: 0.1180699\ttotal: 1.69s\tremaining: 853ms\n",
            "665:\tlearn: 0.1179313\ttotal: 1.7s\tremaining: 852ms\n",
            "666:\tlearn: 0.1178047\ttotal: 1.7s\tremaining: 849ms\n",
            "667:\tlearn: 0.1177215\ttotal: 1.7s\tremaining: 847ms\n",
            "668:\tlearn: 0.1176014\ttotal: 1.71s\tremaining: 844ms\n",
            "669:\tlearn: 0.1174697\ttotal: 1.71s\tremaining: 842ms\n",
            "670:\tlearn: 0.1172769\ttotal: 1.71s\tremaining: 839ms\n",
            "671:\tlearn: 0.1170831\ttotal: 1.71s\tremaining: 837ms\n",
            "672:\tlearn: 0.1170160\ttotal: 1.72s\tremaining: 834ms\n",
            "673:\tlearn: 0.1167904\ttotal: 1.72s\tremaining: 831ms\n",
            "674:\tlearn: 0.1166476\ttotal: 1.72s\tremaining: 829ms\n",
            "675:\tlearn: 0.1165795\ttotal: 1.72s\tremaining: 826ms\n",
            "676:\tlearn: 0.1164735\ttotal: 1.73s\tremaining: 823ms\n",
            "677:\tlearn: 0.1162384\ttotal: 1.73s\tremaining: 821ms\n",
            "678:\tlearn: 0.1160831\ttotal: 1.73s\tremaining: 818ms\n",
            "679:\tlearn: 0.1159399\ttotal: 1.73s\tremaining: 816ms\n",
            "680:\tlearn: 0.1157001\ttotal: 1.74s\tremaining: 813ms\n",
            "681:\tlearn: 0.1155949\ttotal: 1.74s\tremaining: 810ms\n",
            "682:\tlearn: 0.1155315\ttotal: 1.74s\tremaining: 808ms\n",
            "683:\tlearn: 0.1153868\ttotal: 1.74s\tremaining: 805ms\n",
            "684:\tlearn: 0.1153603\ttotal: 1.74s\tremaining: 802ms\n",
            "685:\tlearn: 0.1152332\ttotal: 1.75s\tremaining: 800ms\n",
            "686:\tlearn: 0.1150991\ttotal: 1.75s\tremaining: 797ms\n",
            "687:\tlearn: 0.1150466\ttotal: 1.75s\tremaining: 794ms\n",
            "688:\tlearn: 0.1149462\ttotal: 1.75s\tremaining: 792ms\n",
            "689:\tlearn: 0.1148568\ttotal: 1.76s\tremaining: 789ms\n",
            "690:\tlearn: 0.1147591\ttotal: 1.76s\tremaining: 786ms\n",
            "691:\tlearn: 0.1146251\ttotal: 1.76s\tremaining: 784ms\n",
            "692:\tlearn: 0.1144924\ttotal: 1.76s\tremaining: 781ms\n",
            "693:\tlearn: 0.1144302\ttotal: 1.76s\tremaining: 778ms\n",
            "694:\tlearn: 0.1142642\ttotal: 1.77s\tremaining: 776ms\n",
            "695:\tlearn: 0.1141348\ttotal: 1.77s\tremaining: 773ms\n",
            "696:\tlearn: 0.1139629\ttotal: 1.77s\tremaining: 770ms\n",
            "697:\tlearn: 0.1138214\ttotal: 1.77s\tremaining: 768ms\n",
            "698:\tlearn: 0.1137965\ttotal: 1.78s\tremaining: 765ms\n",
            "699:\tlearn: 0.1136335\ttotal: 1.78s\tremaining: 762ms\n",
            "700:\tlearn: 0.1134073\ttotal: 1.78s\tremaining: 760ms\n",
            "701:\tlearn: 0.1133365\ttotal: 1.78s\tremaining: 757ms\n",
            "702:\tlearn: 0.1132577\ttotal: 1.78s\tremaining: 754ms\n",
            "703:\tlearn: 0.1130394\ttotal: 1.79s\tremaining: 752ms\n",
            "704:\tlearn: 0.1128399\ttotal: 1.79s\tremaining: 749ms\n",
            "705:\tlearn: 0.1127749\ttotal: 1.79s\tremaining: 746ms\n",
            "706:\tlearn: 0.1124573\ttotal: 1.79s\tremaining: 744ms\n",
            "707:\tlearn: 0.1123421\ttotal: 1.8s\tremaining: 741ms\n",
            "708:\tlearn: 0.1121686\ttotal: 1.8s\tremaining: 739ms\n",
            "709:\tlearn: 0.1121422\ttotal: 1.8s\tremaining: 736ms\n",
            "710:\tlearn: 0.1119319\ttotal: 1.8s\tremaining: 733ms\n",
            "711:\tlearn: 0.1117155\ttotal: 1.81s\tremaining: 731ms\n",
            "712:\tlearn: 0.1116759\ttotal: 1.81s\tremaining: 728ms\n",
            "713:\tlearn: 0.1114908\ttotal: 1.81s\tremaining: 726ms\n",
            "714:\tlearn: 0.1113594\ttotal: 1.81s\tremaining: 723ms\n",
            "715:\tlearn: 0.1112470\ttotal: 1.82s\tremaining: 720ms\n",
            "716:\tlearn: 0.1109445\ttotal: 1.82s\tremaining: 718ms\n",
            "717:\tlearn: 0.1109020\ttotal: 1.82s\tremaining: 715ms\n",
            "718:\tlearn: 0.1107652\ttotal: 1.82s\tremaining: 712ms\n",
            "719:\tlearn: 0.1106503\ttotal: 1.82s\tremaining: 710ms\n",
            "720:\tlearn: 0.1104376\ttotal: 1.83s\tremaining: 707ms\n",
            "721:\tlearn: 0.1102213\ttotal: 1.83s\tremaining: 705ms\n",
            "722:\tlearn: 0.1102053\ttotal: 1.83s\tremaining: 702ms\n",
            "723:\tlearn: 0.1099933\ttotal: 1.83s\tremaining: 699ms\n",
            "724:\tlearn: 0.1099110\ttotal: 1.84s\tremaining: 697ms\n",
            "725:\tlearn: 0.1097971\ttotal: 1.84s\tremaining: 694ms\n",
            "726:\tlearn: 0.1096523\ttotal: 1.84s\tremaining: 692ms\n",
            "727:\tlearn: 0.1094868\ttotal: 1.84s\tremaining: 689ms\n",
            "728:\tlearn: 0.1094627\ttotal: 1.85s\tremaining: 686ms\n",
            "729:\tlearn: 0.1092181\ttotal: 1.85s\tremaining: 684ms\n",
            "730:\tlearn: 0.1091767\ttotal: 1.85s\tremaining: 681ms\n",
            "731:\tlearn: 0.1091483\ttotal: 1.85s\tremaining: 679ms\n",
            "732:\tlearn: 0.1088627\ttotal: 1.85s\tremaining: 676ms\n",
            "733:\tlearn: 0.1087242\ttotal: 1.86s\tremaining: 673ms\n",
            "734:\tlearn: 0.1085473\ttotal: 1.86s\tremaining: 671ms\n",
            "735:\tlearn: 0.1084013\ttotal: 1.86s\tremaining: 668ms\n",
            "736:\tlearn: 0.1082551\ttotal: 1.86s\tremaining: 666ms\n",
            "737:\tlearn: 0.1081978\ttotal: 1.87s\tremaining: 663ms\n",
            "738:\tlearn: 0.1080434\ttotal: 1.87s\tremaining: 661ms\n",
            "739:\tlearn: 0.1078690\ttotal: 1.87s\tremaining: 658ms\n",
            "740:\tlearn: 0.1076623\ttotal: 1.87s\tremaining: 655ms\n",
            "741:\tlearn: 0.1075302\ttotal: 1.88s\tremaining: 653ms\n",
            "742:\tlearn: 0.1074989\ttotal: 1.88s\tremaining: 651ms\n",
            "743:\tlearn: 0.1072859\ttotal: 1.89s\tremaining: 649ms\n",
            "744:\tlearn: 0.1071766\ttotal: 1.89s\tremaining: 646ms\n",
            "745:\tlearn: 0.1070232\ttotal: 1.89s\tremaining: 644ms\n",
            "746:\tlearn: 0.1069568\ttotal: 1.89s\tremaining: 641ms\n",
            "747:\tlearn: 0.1067816\ttotal: 1.9s\tremaining: 639ms\n",
            "748:\tlearn: 0.1066451\ttotal: 1.9s\tremaining: 636ms\n",
            "749:\tlearn: 0.1064453\ttotal: 1.9s\tremaining: 633ms\n",
            "750:\tlearn: 0.1063602\ttotal: 1.9s\tremaining: 631ms\n",
            "751:\tlearn: 0.1062039\ttotal: 1.91s\tremaining: 629ms\n",
            "752:\tlearn: 0.1061770\ttotal: 1.91s\tremaining: 627ms\n",
            "753:\tlearn: 0.1060993\ttotal: 1.91s\tremaining: 625ms\n",
            "754:\tlearn: 0.1059775\ttotal: 1.92s\tremaining: 623ms\n",
            "755:\tlearn: 0.1059325\ttotal: 1.92s\tremaining: 620ms\n",
            "756:\tlearn: 0.1057149\ttotal: 1.92s\tremaining: 618ms\n",
            "757:\tlearn: 0.1056993\ttotal: 1.93s\tremaining: 615ms\n",
            "758:\tlearn: 0.1055236\ttotal: 1.93s\tremaining: 613ms\n",
            "759:\tlearn: 0.1053181\ttotal: 1.93s\tremaining: 610ms\n",
            "760:\tlearn: 0.1051896\ttotal: 1.93s\tremaining: 608ms\n",
            "761:\tlearn: 0.1051211\ttotal: 1.94s\tremaining: 605ms\n",
            "762:\tlearn: 0.1049573\ttotal: 1.94s\tremaining: 602ms\n",
            "763:\tlearn: 0.1048003\ttotal: 1.94s\tremaining: 600ms\n",
            "764:\tlearn: 0.1047644\ttotal: 1.94s\tremaining: 597ms\n",
            "765:\tlearn: 0.1046979\ttotal: 1.95s\tremaining: 595ms\n",
            "766:\tlearn: 0.1046697\ttotal: 1.95s\tremaining: 592ms\n",
            "767:\tlearn: 0.1045409\ttotal: 1.95s\tremaining: 589ms\n",
            "768:\tlearn: 0.1042494\ttotal: 1.95s\tremaining: 587ms\n",
            "769:\tlearn: 0.1041213\ttotal: 1.96s\tremaining: 584ms\n",
            "770:\tlearn: 0.1040896\ttotal: 1.96s\tremaining: 581ms\n",
            "771:\tlearn: 0.1040507\ttotal: 1.96s\tremaining: 579ms\n",
            "772:\tlearn: 0.1039276\ttotal: 1.96s\tremaining: 576ms\n",
            "773:\tlearn: 0.1038462\ttotal: 1.96s\tremaining: 573ms\n",
            "774:\tlearn: 0.1037725\ttotal: 1.97s\tremaining: 571ms\n",
            "775:\tlearn: 0.1037379\ttotal: 1.97s\tremaining: 568ms\n",
            "776:\tlearn: 0.1036656\ttotal: 1.97s\tremaining: 566ms\n",
            "777:\tlearn: 0.1035043\ttotal: 1.97s\tremaining: 563ms\n",
            "778:\tlearn: 0.1033870\ttotal: 1.98s\tremaining: 561ms\n",
            "779:\tlearn: 0.1032948\ttotal: 1.98s\tremaining: 558ms\n",
            "780:\tlearn: 0.1032221\ttotal: 1.98s\tremaining: 556ms\n",
            "781:\tlearn: 0.1031450\ttotal: 1.98s\tremaining: 553ms\n",
            "782:\tlearn: 0.1030778\ttotal: 1.99s\tremaining: 550ms\n",
            "783:\tlearn: 0.1029600\ttotal: 1.99s\tremaining: 548ms\n",
            "784:\tlearn: 0.1028273\ttotal: 1.99s\tremaining: 545ms\n",
            "785:\tlearn: 0.1027002\ttotal: 1.99s\tremaining: 543ms\n",
            "786:\tlearn: 0.1026161\ttotal: 1.99s\tremaining: 540ms\n",
            "787:\tlearn: 0.1025104\ttotal: 2s\tremaining: 537ms\n",
            "788:\tlearn: 0.1023998\ttotal: 2s\tremaining: 535ms\n",
            "789:\tlearn: 0.1022461\ttotal: 2s\tremaining: 532ms\n",
            "790:\tlearn: 0.1022102\ttotal: 2s\tremaining: 530ms\n",
            "791:\tlearn: 0.1021510\ttotal: 2.01s\tremaining: 527ms\n",
            "792:\tlearn: 0.1020211\ttotal: 2.01s\tremaining: 524ms\n",
            "793:\tlearn: 0.1019650\ttotal: 2.01s\tremaining: 522ms\n",
            "794:\tlearn: 0.1019222\ttotal: 2.01s\tremaining: 519ms\n",
            "795:\tlearn: 0.1019087\ttotal: 2.02s\tremaining: 517ms\n",
            "796:\tlearn: 0.1018797\ttotal: 2.02s\tremaining: 514ms\n",
            "797:\tlearn: 0.1016942\ttotal: 2.02s\tremaining: 511ms\n",
            "798:\tlearn: 0.1015471\ttotal: 2.02s\tremaining: 509ms\n",
            "799:\tlearn: 0.1015275\ttotal: 2.02s\tremaining: 506ms\n",
            "800:\tlearn: 0.1014958\ttotal: 2.03s\tremaining: 504ms\n",
            "801:\tlearn: 0.1014032\ttotal: 2.03s\tremaining: 501ms\n",
            "802:\tlearn: 0.1012943\ttotal: 2.03s\tremaining: 499ms\n",
            "803:\tlearn: 0.1011134\ttotal: 2.03s\tremaining: 496ms\n",
            "804:\tlearn: 0.1008908\ttotal: 2.04s\tremaining: 493ms\n",
            "805:\tlearn: 0.1006964\ttotal: 2.04s\tremaining: 491ms\n",
            "806:\tlearn: 0.1006667\ttotal: 2.04s\tremaining: 488ms\n",
            "807:\tlearn: 0.1005634\ttotal: 2.04s\tremaining: 486ms\n",
            "808:\tlearn: 0.1004300\ttotal: 2.05s\tremaining: 483ms\n",
            "809:\tlearn: 0.1002788\ttotal: 2.05s\tremaining: 481ms\n",
            "810:\tlearn: 0.1001099\ttotal: 2.05s\tremaining: 478ms\n",
            "811:\tlearn: 0.1000036\ttotal: 2.05s\tremaining: 475ms\n",
            "812:\tlearn: 0.0998553\ttotal: 2.06s\tremaining: 473ms\n",
            "813:\tlearn: 0.0997283\ttotal: 2.06s\tremaining: 470ms\n",
            "814:\tlearn: 0.0996184\ttotal: 2.06s\tremaining: 469ms\n",
            "815:\tlearn: 0.0994759\ttotal: 2.07s\tremaining: 466ms\n",
            "816:\tlearn: 0.0994438\ttotal: 2.07s\tremaining: 464ms\n",
            "817:\tlearn: 0.0993501\ttotal: 2.07s\tremaining: 461ms\n",
            "818:\tlearn: 0.0992876\ttotal: 2.07s\tremaining: 458ms\n",
            "819:\tlearn: 0.0991039\ttotal: 2.08s\tremaining: 456ms\n",
            "820:\tlearn: 0.0990913\ttotal: 2.08s\tremaining: 453ms\n",
            "821:\tlearn: 0.0990281\ttotal: 2.08s\tremaining: 451ms\n",
            "822:\tlearn: 0.0988740\ttotal: 2.08s\tremaining: 448ms\n",
            "823:\tlearn: 0.0987311\ttotal: 2.08s\tremaining: 446ms\n",
            "824:\tlearn: 0.0986591\ttotal: 2.09s\tremaining: 443ms\n",
            "825:\tlearn: 0.0985319\ttotal: 2.09s\tremaining: 440ms\n",
            "826:\tlearn: 0.0984221\ttotal: 2.09s\tremaining: 438ms\n",
            "827:\tlearn: 0.0981921\ttotal: 2.09s\tremaining: 435ms\n",
            "828:\tlearn: 0.0981042\ttotal: 2.1s\tremaining: 433ms\n",
            "829:\tlearn: 0.0978923\ttotal: 2.1s\tremaining: 430ms\n",
            "830:\tlearn: 0.0978791\ttotal: 2.1s\tremaining: 427ms\n",
            "831:\tlearn: 0.0977519\ttotal: 2.1s\tremaining: 425ms\n",
            "832:\tlearn: 0.0976931\ttotal: 2.11s\tremaining: 422ms\n",
            "833:\tlearn: 0.0974891\ttotal: 2.11s\tremaining: 420ms\n",
            "834:\tlearn: 0.0973515\ttotal: 2.11s\tremaining: 417ms\n",
            "835:\tlearn: 0.0972078\ttotal: 2.11s\tremaining: 415ms\n",
            "836:\tlearn: 0.0970736\ttotal: 2.12s\tremaining: 412ms\n",
            "837:\tlearn: 0.0967985\ttotal: 2.12s\tremaining: 409ms\n",
            "838:\tlearn: 0.0966868\ttotal: 2.12s\tremaining: 407ms\n",
            "839:\tlearn: 0.0965518\ttotal: 2.12s\tremaining: 404ms\n",
            "840:\tlearn: 0.0963773\ttotal: 2.12s\tremaining: 402ms\n",
            "841:\tlearn: 0.0963527\ttotal: 2.13s\tremaining: 399ms\n",
            "842:\tlearn: 0.0961924\ttotal: 2.13s\tremaining: 397ms\n",
            "843:\tlearn: 0.0961523\ttotal: 2.13s\tremaining: 394ms\n",
            "844:\tlearn: 0.0960280\ttotal: 2.13s\tremaining: 391ms\n",
            "845:\tlearn: 0.0958942\ttotal: 2.13s\tremaining: 389ms\n",
            "846:\tlearn: 0.0958029\ttotal: 2.14s\tremaining: 386ms\n",
            "847:\tlearn: 0.0957078\ttotal: 2.14s\tremaining: 384ms\n",
            "848:\tlearn: 0.0955566\ttotal: 2.14s\tremaining: 381ms\n",
            "849:\tlearn: 0.0954439\ttotal: 2.15s\tremaining: 379ms\n",
            "850:\tlearn: 0.0953846\ttotal: 2.15s\tremaining: 376ms\n",
            "851:\tlearn: 0.0952395\ttotal: 2.15s\tremaining: 373ms\n",
            "852:\tlearn: 0.0949947\ttotal: 2.15s\tremaining: 371ms\n",
            "853:\tlearn: 0.0947771\ttotal: 2.15s\tremaining: 368ms\n",
            "854:\tlearn: 0.0946335\ttotal: 2.16s\tremaining: 366ms\n",
            "855:\tlearn: 0.0945296\ttotal: 2.16s\tremaining: 363ms\n",
            "856:\tlearn: 0.0944398\ttotal: 2.16s\tremaining: 361ms\n",
            "857:\tlearn: 0.0942310\ttotal: 2.16s\tremaining: 358ms\n",
            "858:\tlearn: 0.0941889\ttotal: 2.17s\tremaining: 356ms\n",
            "859:\tlearn: 0.0939873\ttotal: 2.17s\tremaining: 353ms\n",
            "860:\tlearn: 0.0938704\ttotal: 2.17s\tremaining: 351ms\n",
            "861:\tlearn: 0.0937253\ttotal: 2.17s\tremaining: 348ms\n",
            "862:\tlearn: 0.0936738\ttotal: 2.18s\tremaining: 346ms\n",
            "863:\tlearn: 0.0935818\ttotal: 2.18s\tremaining: 344ms\n",
            "864:\tlearn: 0.0934573\ttotal: 2.19s\tremaining: 341ms\n",
            "865:\tlearn: 0.0933708\ttotal: 2.19s\tremaining: 339ms\n",
            "866:\tlearn: 0.0933379\ttotal: 2.19s\tremaining: 336ms\n",
            "867:\tlearn: 0.0931736\ttotal: 2.19s\tremaining: 334ms\n",
            "868:\tlearn: 0.0931006\ttotal: 2.2s\tremaining: 331ms\n",
            "869:\tlearn: 0.0930128\ttotal: 2.2s\tremaining: 329ms\n",
            "870:\tlearn: 0.0929261\ttotal: 2.2s\tremaining: 326ms\n",
            "871:\tlearn: 0.0928178\ttotal: 2.2s\tremaining: 324ms\n",
            "872:\tlearn: 0.0927355\ttotal: 2.21s\tremaining: 321ms\n",
            "873:\tlearn: 0.0926066\ttotal: 2.21s\tremaining: 319ms\n",
            "874:\tlearn: 0.0924602\ttotal: 2.21s\tremaining: 316ms\n",
            "875:\tlearn: 0.0923661\ttotal: 2.21s\tremaining: 313ms\n",
            "876:\tlearn: 0.0922836\ttotal: 2.22s\tremaining: 311ms\n",
            "877:\tlearn: 0.0921330\ttotal: 2.22s\tremaining: 308ms\n",
            "878:\tlearn: 0.0919754\ttotal: 2.22s\tremaining: 306ms\n",
            "879:\tlearn: 0.0918787\ttotal: 2.23s\tremaining: 304ms\n",
            "880:\tlearn: 0.0918257\ttotal: 2.23s\tremaining: 301ms\n",
            "881:\tlearn: 0.0916922\ttotal: 2.23s\tremaining: 299ms\n",
            "882:\tlearn: 0.0915598\ttotal: 2.23s\tremaining: 296ms\n",
            "883:\tlearn: 0.0913093\ttotal: 2.24s\tremaining: 294ms\n",
            "884:\tlearn: 0.0911288\ttotal: 2.24s\tremaining: 291ms\n",
            "885:\tlearn: 0.0909747\ttotal: 2.24s\tremaining: 289ms\n",
            "886:\tlearn: 0.0908339\ttotal: 2.24s\tremaining: 286ms\n",
            "887:\tlearn: 0.0907216\ttotal: 2.25s\tremaining: 283ms\n",
            "888:\tlearn: 0.0906087\ttotal: 2.25s\tremaining: 281ms\n",
            "889:\tlearn: 0.0904134\ttotal: 2.25s\tremaining: 279ms\n",
            "890:\tlearn: 0.0902765\ttotal: 2.26s\tremaining: 276ms\n",
            "891:\tlearn: 0.0901934\ttotal: 2.26s\tremaining: 274ms\n",
            "892:\tlearn: 0.0898889\ttotal: 2.26s\tremaining: 271ms\n",
            "893:\tlearn: 0.0898785\ttotal: 2.26s\tremaining: 268ms\n",
            "894:\tlearn: 0.0898244\ttotal: 2.27s\tremaining: 266ms\n",
            "895:\tlearn: 0.0897420\ttotal: 2.27s\tremaining: 263ms\n",
            "896:\tlearn: 0.0896610\ttotal: 2.27s\tremaining: 261ms\n",
            "897:\tlearn: 0.0894901\ttotal: 2.27s\tremaining: 258ms\n",
            "898:\tlearn: 0.0893797\ttotal: 2.28s\tremaining: 256ms\n",
            "899:\tlearn: 0.0893537\ttotal: 2.28s\tremaining: 253ms\n",
            "900:\tlearn: 0.0892627\ttotal: 2.28s\tremaining: 251ms\n",
            "901:\tlearn: 0.0890886\ttotal: 2.28s\tremaining: 248ms\n",
            "902:\tlearn: 0.0889560\ttotal: 2.29s\tremaining: 246ms\n",
            "903:\tlearn: 0.0889462\ttotal: 2.29s\tremaining: 243ms\n",
            "904:\tlearn: 0.0887851\ttotal: 2.29s\tremaining: 241ms\n",
            "905:\tlearn: 0.0886988\ttotal: 2.29s\tremaining: 238ms\n",
            "906:\tlearn: 0.0886474\ttotal: 2.29s\tremaining: 235ms\n",
            "907:\tlearn: 0.0886374\ttotal: 2.3s\tremaining: 233ms\n",
            "908:\tlearn: 0.0885292\ttotal: 2.3s\tremaining: 230ms\n",
            "909:\tlearn: 0.0884250\ttotal: 2.3s\tremaining: 228ms\n",
            "910:\tlearn: 0.0883492\ttotal: 2.31s\tremaining: 225ms\n",
            "911:\tlearn: 0.0882395\ttotal: 2.31s\tremaining: 223ms\n",
            "912:\tlearn: 0.0880050\ttotal: 2.31s\tremaining: 220ms\n",
            "913:\tlearn: 0.0877801\ttotal: 2.31s\tremaining: 218ms\n",
            "914:\tlearn: 0.0877015\ttotal: 2.31s\tremaining: 215ms\n",
            "915:\tlearn: 0.0875820\ttotal: 2.32s\tremaining: 212ms\n",
            "916:\tlearn: 0.0875294\ttotal: 2.32s\tremaining: 210ms\n",
            "917:\tlearn: 0.0874816\ttotal: 2.32s\tremaining: 207ms\n",
            "918:\tlearn: 0.0874338\ttotal: 2.32s\tremaining: 205ms\n",
            "919:\tlearn: 0.0872145\ttotal: 2.33s\tremaining: 202ms\n",
            "920:\tlearn: 0.0871293\ttotal: 2.33s\tremaining: 200ms\n",
            "921:\tlearn: 0.0869927\ttotal: 2.33s\tremaining: 197ms\n",
            "922:\tlearn: 0.0869388\ttotal: 2.33s\tremaining: 195ms\n",
            "923:\tlearn: 0.0868958\ttotal: 2.33s\tremaining: 192ms\n",
            "924:\tlearn: 0.0867589\ttotal: 2.34s\tremaining: 190ms\n",
            "925:\tlearn: 0.0866477\ttotal: 2.34s\tremaining: 187ms\n",
            "926:\tlearn: 0.0865795\ttotal: 2.34s\tremaining: 184ms\n",
            "927:\tlearn: 0.0864780\ttotal: 2.34s\tremaining: 182ms\n",
            "928:\tlearn: 0.0864246\ttotal: 2.35s\tremaining: 179ms\n",
            "929:\tlearn: 0.0862899\ttotal: 2.35s\tremaining: 177ms\n",
            "930:\tlearn: 0.0862195\ttotal: 2.35s\tremaining: 174ms\n",
            "931:\tlearn: 0.0861458\ttotal: 2.35s\tremaining: 172ms\n",
            "932:\tlearn: 0.0860492\ttotal: 2.35s\tremaining: 169ms\n",
            "933:\tlearn: 0.0860301\ttotal: 2.36s\tremaining: 167ms\n",
            "934:\tlearn: 0.0858984\ttotal: 2.36s\tremaining: 164ms\n",
            "935:\tlearn: 0.0858802\ttotal: 2.36s\tremaining: 162ms\n",
            "936:\tlearn: 0.0857801\ttotal: 2.36s\tremaining: 159ms\n",
            "937:\tlearn: 0.0857561\ttotal: 2.37s\tremaining: 156ms\n",
            "938:\tlearn: 0.0856431\ttotal: 2.37s\tremaining: 154ms\n",
            "939:\tlearn: 0.0855401\ttotal: 2.37s\tremaining: 151ms\n",
            "940:\tlearn: 0.0854605\ttotal: 2.37s\tremaining: 149ms\n",
            "941:\tlearn: 0.0853391\ttotal: 2.38s\tremaining: 146ms\n",
            "942:\tlearn: 0.0851826\ttotal: 2.38s\tremaining: 144ms\n",
            "943:\tlearn: 0.0850817\ttotal: 2.38s\tremaining: 141ms\n",
            "944:\tlearn: 0.0850238\ttotal: 2.38s\tremaining: 139ms\n",
            "945:\tlearn: 0.0849434\ttotal: 2.38s\tremaining: 136ms\n",
            "946:\tlearn: 0.0848765\ttotal: 2.39s\tremaining: 134ms\n",
            "947:\tlearn: 0.0847296\ttotal: 2.39s\tremaining: 131ms\n",
            "948:\tlearn: 0.0845873\ttotal: 2.39s\tremaining: 129ms\n",
            "949:\tlearn: 0.0844820\ttotal: 2.39s\tremaining: 126ms\n",
            "950:\tlearn: 0.0844380\ttotal: 2.4s\tremaining: 123ms\n",
            "951:\tlearn: 0.0843418\ttotal: 2.4s\tremaining: 121ms\n",
            "952:\tlearn: 0.0842463\ttotal: 2.4s\tremaining: 118ms\n",
            "953:\tlearn: 0.0840818\ttotal: 2.4s\tremaining: 116ms\n",
            "954:\tlearn: 0.0839825\ttotal: 2.4s\tremaining: 113ms\n",
            "955:\tlearn: 0.0838793\ttotal: 2.41s\tremaining: 111ms\n",
            "956:\tlearn: 0.0837831\ttotal: 2.41s\tremaining: 108ms\n",
            "957:\tlearn: 0.0836143\ttotal: 2.41s\tremaining: 106ms\n",
            "958:\tlearn: 0.0835172\ttotal: 2.41s\tremaining: 103ms\n",
            "959:\tlearn: 0.0834474\ttotal: 2.42s\tremaining: 101ms\n",
            "960:\tlearn: 0.0833348\ttotal: 2.42s\tremaining: 98.2ms\n",
            "961:\tlearn: 0.0832791\ttotal: 2.42s\tremaining: 95.6ms\n",
            "962:\tlearn: 0.0831782\ttotal: 2.42s\tremaining: 93.1ms\n",
            "963:\tlearn: 0.0831020\ttotal: 2.42s\tremaining: 90.6ms\n",
            "964:\tlearn: 0.0828714\ttotal: 2.43s\tremaining: 88.1ms\n",
            "965:\tlearn: 0.0827528\ttotal: 2.43s\tremaining: 85.5ms\n",
            "966:\tlearn: 0.0826933\ttotal: 2.43s\tremaining: 83ms\n",
            "967:\tlearn: 0.0825240\ttotal: 2.44s\tremaining: 80.6ms\n",
            "968:\tlearn: 0.0823340\ttotal: 2.44s\tremaining: 78.1ms\n",
            "969:\tlearn: 0.0822580\ttotal: 2.44s\tremaining: 75.5ms\n",
            "970:\tlearn: 0.0821608\ttotal: 2.44s\tremaining: 73ms\n",
            "971:\tlearn: 0.0820698\ttotal: 2.45s\tremaining: 70.5ms\n",
            "972:\tlearn: 0.0819254\ttotal: 2.45s\tremaining: 68ms\n",
            "973:\tlearn: 0.0817952\ttotal: 2.45s\tremaining: 65.4ms\n",
            "974:\tlearn: 0.0817130\ttotal: 2.45s\tremaining: 62.9ms\n",
            "975:\tlearn: 0.0815694\ttotal: 2.46s\tremaining: 60.4ms\n",
            "976:\tlearn: 0.0814174\ttotal: 2.46s\tremaining: 57.9ms\n",
            "977:\tlearn: 0.0813464\ttotal: 2.46s\tremaining: 55.3ms\n",
            "978:\tlearn: 0.0812081\ttotal: 2.46s\tremaining: 52.8ms\n",
            "979:\tlearn: 0.0811543\ttotal: 2.46s\tremaining: 50.3ms\n",
            "980:\tlearn: 0.0810628\ttotal: 2.47s\tremaining: 47.8ms\n",
            "981:\tlearn: 0.0810103\ttotal: 2.47s\tremaining: 45.3ms\n",
            "982:\tlearn: 0.0809387\ttotal: 2.47s\tremaining: 42.7ms\n",
            "983:\tlearn: 0.0808665\ttotal: 2.47s\tremaining: 40.2ms\n",
            "984:\tlearn: 0.0808014\ttotal: 2.48s\tremaining: 37.7ms\n",
            "985:\tlearn: 0.0807078\ttotal: 2.48s\tremaining: 35.2ms\n",
            "986:\tlearn: 0.0806161\ttotal: 2.48s\tremaining: 32.7ms\n",
            "987:\tlearn: 0.0804982\ttotal: 2.48s\tremaining: 30.2ms\n",
            "988:\tlearn: 0.0803729\ttotal: 2.49s\tremaining: 27.7ms\n",
            "989:\tlearn: 0.0802793\ttotal: 2.49s\tremaining: 25.1ms\n",
            "990:\tlearn: 0.0802077\ttotal: 2.49s\tremaining: 22.6ms\n",
            "991:\tlearn: 0.0801022\ttotal: 2.49s\tremaining: 20.1ms\n",
            "992:\tlearn: 0.0800105\ttotal: 2.5s\tremaining: 17.6ms\n",
            "993:\tlearn: 0.0799227\ttotal: 2.5s\tremaining: 15.1ms\n",
            "994:\tlearn: 0.0798299\ttotal: 2.5s\tremaining: 12.6ms\n",
            "995:\tlearn: 0.0797412\ttotal: 2.5s\tremaining: 10.1ms\n",
            "996:\tlearn: 0.0796493\ttotal: 2.51s\tremaining: 7.54ms\n",
            "997:\tlearn: 0.0795850\ttotal: 2.51s\tremaining: 5.03ms\n",
            "998:\tlearn: 0.0795519\ttotal: 2.51s\tremaining: 2.51ms\n",
            "999:\tlearn: 0.0794409\ttotal: 2.51s\tremaining: 0us\n"
          ],
          "name": "stdout"
        },
        {
          "output_type": "execute_result",
          "data": {
            "text/plain": [
              "<catboost.core.CatBoostClassifier at 0x7f8952561ac8>"
            ]
          },
          "metadata": {
            "tags": []
          },
          "execution_count": 51
        }
      ]
    },
    {
      "cell_type": "code",
      "metadata": {
        "id": "u4FwYd32FvGE",
        "colab_type": "code",
        "colab": {
          "base_uri": "https://localhost:8080/",
          "height": 34
        },
        "outputId": "85c4c267-ec49-4125-faa3-e2cf8f38d647"
      },
      "source": [
        "pred_cbr=cbr.predict(X_test)\n",
        "print(pred_cbr.shape)\n"
      ],
      "execution_count": 52,
      "outputs": [
        {
          "output_type": "stream",
          "text": [
            "(320,)\n"
          ],
          "name": "stdout"
        }
      ]
    },
    {
      "cell_type": "code",
      "metadata": {
        "id": "4RmJ7c5hF8TL",
        "colab_type": "code",
        "colab": {
          "base_uri": "https://localhost:8080/",
          "height": 272
        },
        "outputId": "0c0ad6a0-665f-4d16-a1eb-9063e2392de7"
      },
      "source": [
        "pred_cbr"
      ],
      "execution_count": 53,
      "outputs": [
        {
          "output_type": "execute_result",
          "data": {
            "text/plain": [
              "array([0, 0, 0, 0, 0, 0, 0, 0, 0, 0, 1, 0, 0, 0, 0, 0, 0, 0, 1, 0, 0, 0,\n",
              "       0, 0, 0, 0, 0, 0, 0, 0, 0, 0, 0, 0, 0, 0, 0, 0, 0, 0, 0, 0, 0, 0,\n",
              "       0, 0, 1, 0, 0, 0, 0, 0, 0, 1, 0, 0, 0, 0, 0, 0, 0, 0, 0, 0, 1, 0,\n",
              "       1, 0, 1, 0, 0, 0, 0, 0, 0, 0, 1, 0, 0, 0, 0, 1, 0, 0, 0, 0, 0, 0,\n",
              "       1, 0, 0, 0, 0, 0, 0, 0, 0, 0, 0, 0, 0, 0, 0, 0, 0, 0, 0, 0, 0, 0,\n",
              "       1, 0, 0, 0, 0, 0, 0, 0, 0, 0, 0, 0, 0, 0, 0, 0, 0, 0, 0, 0, 0, 0,\n",
              "       0, 0, 0, 0, 0, 0, 0, 0, 1, 0, 1, 0, 0, 0, 0, 0, 0, 0, 0, 0, 0, 0,\n",
              "       0, 0, 0, 1, 0, 0, 0, 0, 0, 0, 0, 0, 0, 0, 0, 0, 0, 0, 1, 0, 1, 0,\n",
              "       0, 0, 0, 0, 0, 0, 0, 1, 0, 1, 0, 0, 1, 0, 0, 0, 0, 0, 0, 0, 0, 0,\n",
              "       0, 0, 0, 0, 0, 0, 1, 0, 0, 0, 0, 0, 1, 0, 0, 0, 0, 0, 0, 0, 0, 0,\n",
              "       0, 0, 0, 0, 0, 0, 0, 1, 0, 0, 0, 0, 1, 0, 0, 0, 0, 0, 0, 0, 0, 0,\n",
              "       0, 1, 0, 1, 0, 0, 1, 0, 0, 0, 0, 0, 0, 0, 0, 0, 0, 1, 0, 0, 0, 0,\n",
              "       0, 0, 0, 0, 0, 0, 0, 0, 0, 0, 0, 0, 0, 0, 0, 0, 1, 0, 0, 0, 0, 0,\n",
              "       0, 0, 0, 0, 0, 1, 1, 0, 0, 0, 0, 0, 0, 0, 0, 0, 0, 0, 0, 0, 0, 0,\n",
              "       0, 1, 0, 0, 0, 0, 0, 0, 0, 0, 0, 0])"
            ]
          },
          "metadata": {
            "tags": []
          },
          "execution_count": 53
        }
      ]
    },
    {
      "cell_type": "code",
      "metadata": {
        "id": "GVeyn6_cF9uE",
        "colab_type": "code",
        "colab": {
          "base_uri": "https://localhost:8080/",
          "height": 170
        },
        "outputId": "fd19b673-d8af-42d9-c713-030f43877abf"
      },
      "source": [
        "#Let's see how our model performed\n",
        "print(classification_report(y_test, pred_cbr))"
      ],
      "execution_count": 54,
      "outputs": [
        {
          "output_type": "stream",
          "text": [
            "              precision    recall  f1-score   support\n",
            "\n",
            "           0       0.91      0.96      0.94       273\n",
            "           1       0.68      0.45      0.54        47\n",
            "\n",
            "    accuracy                           0.89       320\n",
            "   macro avg       0.79      0.71      0.74       320\n",
            "weighted avg       0.88      0.89      0.88       320\n",
            "\n"
          ],
          "name": "stdout"
        }
      ]
    },
    {
      "cell_type": "code",
      "metadata": {
        "id": "q3CAUKVnHRNZ",
        "colab_type": "code",
        "colab": {
          "base_uri": "https://localhost:8080/",
          "height": 51
        },
        "outputId": "41a6648c-bf75-4406-94b6-0034ed242bdd"
      },
      "source": [
        "from sklearn.metrics import confusion_matrix\n",
        "cm=confusion_matrix(y_test, pred_rfc)\n",
        "cm"
      ],
      "execution_count": 55,
      "outputs": [
        {
          "output_type": "execute_result",
          "data": {
            "text/plain": [
              "array([[262,  11],\n",
              "       [ 31,  16]])"
            ]
          },
          "metadata": {
            "tags": []
          },
          "execution_count": 55
        }
      ]
    },
    {
      "cell_type": "code",
      "metadata": {
        "id": "9f1o9EpRHY4-",
        "colab_type": "code",
        "colab": {}
      },
      "source": [
        ""
      ],
      "execution_count": null,
      "outputs": []
    }
  ]
}